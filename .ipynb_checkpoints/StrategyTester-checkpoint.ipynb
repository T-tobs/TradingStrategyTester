{
 "cells": [
  {
   "cell_type": "code",
   "execution_count": 1,
   "id": "047ac9d8-2887-45b6-b8cb-406e73612b32",
   "metadata": {},
   "outputs": [],
   "source": [
    "import pandas as pd\n",
    "import numpy as np\n",
    "import plotly.graph_objects as go\n",
    "from plotly.subplots import make_subplots\n",
    "import random"
   ]
  },
  {
   "cell_type": "code",
   "execution_count": 12,
   "id": "c033e952-a8e4-4c71-9564-adbd0f5892f5",
   "metadata": {},
   "outputs": [],
   "source": [
    "df = pd.read_csv(\"charts//EURUSD_M15.csv\", sep=\"\\t\")"
   ]
  },
  {
   "cell_type": "code",
   "execution_count": 52,
   "id": "66173aad-e77b-4628-b320-a94f1cade15f",
   "metadata": {},
   "outputs": [
    {
     "name": "stderr",
     "output_type": "stream",
     "text": [
      "C:\\Users\\user\\AppData\\Local\\Temp\\ipykernel_9548\\3949315240.py:48: FutureWarning:\n",
      "\n",
      "Series.__getitem__ treating keys as positions is deprecated. In a future version, integer keys will always be treated as labels (consistent with DataFrame behavior). To access a value by position, use `ser.iloc[pos]`\n",
      "\n",
      "C:\\Users\\user\\AppData\\Local\\Temp\\ipykernel_9548\\3949315240.py:50: FutureWarning:\n",
      "\n",
      "Series.__getitem__ treating keys as positions is deprecated. In a future version, integer keys will always be treated as labels (consistent with DataFrame behavior). To access a value by position, use `ser.iloc[pos]`\n",
      "\n"
     ]
    },
    {
     "name": "stdout",
     "output_type": "stream",
     "text": [
      "Final capital from 2024-12-27 10:30:00 to 2024-12-30 23:45:00: 49.2\n"
     ]
    }
   ],
   "source": [
    "df = pd.read_csv(\"charts//EURUSD_M15.csv\", sep=\"\\t\")\n",
    "\n",
    "# Original csv's have wrong column names. This function fixes that. Not needed if you have properly labelled datasets\n",
    "def csv_to_df(df):\n",
    "    processed_df = df.copy()\n",
    "    \n",
    "    processed_df.reset_index(inplace=True)\n",
    "\n",
    "    columns = ['index', 'Time', 'Open', 'High', 'Low', 'Close', 'Volume']\n",
    "\n",
    "    for i in range(5, -1, -1):\n",
    "        processed_df[columns[i+1]] = processed_df[columns[i]] # 1st Iteration: Move contents of Close column into Volume column\n",
    "                                                              # 2nd Iteration: Move contents of Low column into Close column and so on\n",
    "    #Drop the first column\n",
    "    del processed_df[\"index\"]\n",
    "    return processed_df\n",
    "    \n",
    "def basic_tp_sl_function(signal, price, pip_value, tp_pips=30, sl_pips=10):\n",
    "    \n",
    "    tp_dist = tp_pips * pip_value\n",
    "    sl_dist = sl_pips * pip_value\n",
    "    \n",
    "    if signal > 0:  # Long trade\n",
    "        tp = price + tp_dist\n",
    "        sl = price- sl_dist\n",
    "    else:  # Short trade\n",
    "        tp = price - tp_dist\n",
    "        sl = price + sl_dist\n",
    "        \n",
    "    return tp, sl, tp_pips, sl_pips\n",
    "\n",
    "def custom_tp_sl_function():\n",
    "    pass\n",
    "\n",
    "def analyze_strategy(df, strategy_function, tp_sl_function, **strategy_params):\n",
    "    \"\"\"\n",
    "    Analyzes price data using the provided strategy function and returns entry points.\n",
    "    \n",
    "    Args:\n",
    "        df (pd.DataFrame): DataFrame with OHLCV data\n",
    "        strategy_function: Function that implements the trading strategy\n",
    "        strategy_params: Additional parameters for the strategy\n",
    "    \n",
    "    Returns:\n",
    "        list: List of dictionaries containing entry points\n",
    "    \"\"\"\n",
    "    analysis_df = df.copy()\n",
    "    entry_signals = strategy_function(analysis_df, **strategy_params)\n",
    "    \n",
    "    pip = 0.0001\n",
    "    \n",
    "    entry_points = []\n",
    "    for i, signal in enumerate(entry_signals):\n",
    "        if signal != 0 and i > 0:  \n",
    "            \n",
    "            close = df.iloc[i]['Close']  \n",
    "            take_profit, stop_loss, take_profit_pips, stop_loss_pips = tp_sl_function(signal, close, pip)\n",
    "                \n",
    "            entry_points.append({\n",
    "                'date': df.iloc[i]['Time'],\n",
    "                'price': close,  \n",
    "                'type': 'long' if signal > 0 else 'short',\n",
    "                'take_profit': take_profit,\n",
    "                'stop_loss': stop_loss,\n",
    "                'tp_pips': take_profit_pips,\n",
    "                'sl_pips': stop_loss_pips\n",
    "            })\n",
    "    \n",
    "    return entry_points\n",
    "\n",
    "\n",
    "def plot_forex_chart(price_df, strategy_function, tp_sl_function, data_volume=100, capital=100, **strategy_params):\n",
    "    df = price_df.copy()\n",
    "    try:\n",
    "        df = csv_to_df(df)\n",
    "    except Exception as e:\n",
    "        print(f\"Error converting data: {e}\")\n",
    "        return None\n",
    "\n",
    "    df = df.tail(data_volume).reset_index(drop=True)\n",
    "    #df = df.iloc[-(data_volume*2):-data_volume].reset_index(drop=True)\n",
    "\n",
    "    entry_points = analyze_strategy(df, strategy_function, tp_sl_function, **strategy_params)\n",
    "\n",
    "    # Plots for strategy entries and equity curve\n",
    "    fig = make_subplots(\n",
    "        rows=2, cols=1,\n",
    "        shared_xaxes=True,\n",
    "        vertical_spacing=0.1,\n",
    "        row_heights=[0.7, 0.3],\n",
    "        subplot_titles=(f\"{strategy_function.__name__}\", \"Equity Curve\")\n",
    "    )\n",
    "\n",
    "    fig.update_layout(\n",
    "        height=700,\n",
    "        width=900\n",
    "    )\n",
    "\n",
    "    # === Plot candlestick chart ===\n",
    "    fig.add_trace(go.Candlestick(\n",
    "        x=df['Time'],\n",
    "        open=df['Open'],\n",
    "        high=df['High'],\n",
    "        low=df['Low'],\n",
    "        close=df['Close'],\n",
    "        name='Price Action'),\n",
    "        row=1, col=1\n",
    "    )\n",
    "\n",
    "    # === Equity Curve Variables ===\n",
    "    equity = capital\n",
    "    equity_times = []\n",
    "    equity_values = []\n",
    "\n",
    "    for i, entry in enumerate(entry_points):\n",
    "        marker_color = 'green' if entry['type'] == 'long' else 'red'\n",
    "        marker_symbol = 'triangle-up' if entry['type'] == 'long' else 'triangle-down'\n",
    "\n",
    "        # === Entry marker === \n",
    "        fig.add_trace(go.Scatter(\n",
    "            x=[entry['date']],\n",
    "            y=[entry['price']],\n",
    "            mode='markers',\n",
    "            marker=dict(\n",
    "                symbol=marker_symbol,\n",
    "                size=10,\n",
    "                color=marker_color,\n",
    "                line=dict(width=1, color='black')\n",
    "            ),\n",
    "            name=f\"{entry['type'].capitalize()} Entry\",\n",
    "            text=f\"{entry['type'].capitalize()} {i+1} entry at {entry['price']:.5f}\\nTP: {entry['take_profit']:.5f}\\nSL: {entry['stop_loss']:.5f}\",\n",
    "            hoverinfo='text',\n",
    "            showlegend=False\n",
    "        ), row=1, col=1)\n",
    "\n",
    "        # === TP and SL Lines ===\n",
    "        fig.add_trace(go.Scatter(\n",
    "            x=[df['Time'].iloc[0], df['Time'].iloc[-1]],\n",
    "            y=[entry['take_profit'], entry['take_profit']],\n",
    "            mode='lines',\n",
    "            line=dict(color='green', width=2, dash='dot'),\n",
    "            name=f'TP {i+1} ({entry[\"take_profit\"]:.5f})',\n",
    "            legendgroup=f'trade_{i}',\n",
    "            showlegend=True,\n",
    "            visible='legendonly'\n",
    "        ), row=1, col=1)\n",
    "\n",
    "        fig.add_trace(go.Scatter(\n",
    "            x=[df['Time'].iloc[0], df['Time'].iloc[-1]],\n",
    "            y=[entry['stop_loss'], entry['stop_loss']],\n",
    "            mode='lines',\n",
    "            line=dict(color='red', width=2, dash='dot'),\n",
    "            name=f'SL {i+1} ({entry[\"stop_loss\"]:.5f})',\n",
    "            legendgroup=f'trade_{i}',\n",
    "            showlegend=True,\n",
    "            visible='legendonly'\n",
    "        ), row=1, col=1)\n",
    "\n",
    "        # === Simulate Trade ===\n",
    "        lot = max((equity // 10) * 0.01, 0.01)\n",
    "        spread_pips = random.uniform(0.2, 2.5)\n",
    "        slippage_pips = random.uniform(0.0, 1.0)\n",
    "\n",
    "        df_after_entry = df[df[\"Time\"] > entry[\"date\"]]\n",
    "        df2 = df_after_entry.copy()\n",
    "\n",
    "        profit = None\n",
    "        if entry[\"type\"] == \"long\":\n",
    "            \n",
    "            tp_hit = df2[df2[\"High\"] >= entry[\"take_profit\"]]\n",
    "            sl_hit = df2[df2[\"Low\"] <= entry[\"stop_loss\"]]\n",
    "            \n",
    "            if not tp_hit.empty and not sl_hit.empty:\n",
    "                profit = tp_hit.index[0] < sl_hit.index[0]\n",
    "            elif not tp_hit.empty:\n",
    "                profit = True\n",
    "            elif not sl_hit.empty:\n",
    "                profit = False\n",
    "\n",
    "        elif entry[\"type\"] == \"short\":\n",
    "\n",
    "            tp_hit = df2[df2[\"Low\"] <= entry[\"take_profit\"]]\n",
    "            sl_hit = df2[df2[\"High\"] >= entry[\"stop_loss\"]]\n",
    "        \n",
    "            if not tp_hit.empty and not sl_hit.empty:\n",
    "                profit = tp_hit.index[0] < sl_hit.index[0]\n",
    "            elif not tp_hit.empty:\n",
    "                profit = True\n",
    "            elif not sl_hit.empty:\n",
    "                profit = False\n",
    "\n",
    "        # === Update Capital & Record Equity ===\n",
    "        if profit is True:\n",
    "            equity += lot * (entry[\"tp_pips\"] - spread_pips - slippage_pips) * 10\n",
    "        elif profit is None:\n",
    "            equity = equity\n",
    "        else:\n",
    "            equity -= lot * (entry[\"sl_pips\"] + spread_pips + slippage_pips) * 10\n",
    "\n",
    "        equity_times.append(entry[\"date\"])\n",
    "        equity_values.append(equity)\n",
    "\n",
    "    # === Plot Equity Curve ===\n",
    "    fig.add_trace(go.Scatter(\n",
    "        x=equity_times,\n",
    "        y=equity_values,\n",
    "        mode='lines+markers',\n",
    "        line=dict(color='blue'),\n",
    "        name='Equity Curve'\n",
    "    ), row=2, col=1)\n",
    "\n",
    "    # Remove weekend breaks\n",
    "    fig.update_layout(\n",
    "            xaxis=dict(\n",
    "                rangeslider_visible=False,\n",
    "                rangebreaks=[dict(bounds=[\"sat\", \"mon\"])]  # Skip weekends\n",
    "            ),\n",
    "            legend=dict(\n",
    "                orientation=\"v\",\n",
    "                yanchor=\"top\",\n",
    "                y=1,\n",
    "                xanchor=\"left\",\n",
    "                x=1.01\n",
    "            ),\n",
    "            hovermode='closest'\n",
    "        )\n",
    "\n",
    "\n",
    "    print(f\"Final capital from {df.head(1)[\"Time\"].item()} to {df.tail(1)[\"Time\"].item()}: {round(equity, 2)}\")\n",
    "    return fig\n",
    "\n",
    "\n",
    "# Usage example:\n",
    "if __name__ == \"__main__\":\n",
    "    \n",
    "    # Plot with example strategy\n",
    "    fig = plot_forex_chart(\n",
    "        df,\n",
    "        strategy_function=fvg_strategy,\n",
    "        tp_sl_function=basic_tp_sl_function,\n",
    "        data_volume=150\n",
    "    )\n"
   ]
  },
  {
   "cell_type": "code",
   "execution_count": 8,
   "id": "1f74519f-2ec2-4a32-b14d-7605101ad59b",
   "metadata": {},
   "outputs": [
    {
     "data": {
      "text/html": [
       "<div>\n",
       "<style scoped>\n",
       "    .dataframe tbody tr th:only-of-type {\n",
       "        vertical-align: middle;\n",
       "    }\n",
       "\n",
       "    .dataframe tbody tr th {\n",
       "        vertical-align: top;\n",
       "    }\n",
       "\n",
       "    .dataframe thead th {\n",
       "        text-align: right;\n",
       "    }\n",
       "</style>\n",
       "<table border=\"1\" class=\"dataframe\">\n",
       "  <thead>\n",
       "    <tr style=\"text-align: right;\">\n",
       "      <th></th>\n",
       "      <th>Time</th>\n",
       "      <th>Open</th>\n",
       "      <th>High</th>\n",
       "      <th>Low</th>\n",
       "      <th>Close</th>\n",
       "      <th>Volume</th>\n",
       "    </tr>\n",
       "  </thead>\n",
       "  <tbody>\n",
       "    <tr>\n",
       "      <th>0</th>\n",
       "      <td>99995</td>\n",
       "      <td>2024-12-30 22:45:00</td>\n",
       "      <td>1.04021</td>\n",
       "      <td>1.04045</td>\n",
       "      <td>1.04017</td>\n",
       "      <td>1.04043</td>\n",
       "    </tr>\n",
       "    <tr>\n",
       "      <th>1</th>\n",
       "      <td>99996</td>\n",
       "      <td>2024-12-30 23:00:00</td>\n",
       "      <td>1.04045</td>\n",
       "      <td>1.04050</td>\n",
       "      <td>1.03987</td>\n",
       "      <td>1.04009</td>\n",
       "    </tr>\n",
       "    <tr>\n",
       "      <th>2</th>\n",
       "      <td>99997</td>\n",
       "      <td>2024-12-30 23:15:00</td>\n",
       "      <td>1.04010</td>\n",
       "      <td>1.04037</td>\n",
       "      <td>1.04009</td>\n",
       "      <td>1.04031</td>\n",
       "    </tr>\n",
       "    <tr>\n",
       "      <th>3</th>\n",
       "      <td>99998</td>\n",
       "      <td>2024-12-30 23:30:00</td>\n",
       "      <td>1.04031</td>\n",
       "      <td>1.04055</td>\n",
       "      <td>1.04031</td>\n",
       "      <td>1.04049</td>\n",
       "    </tr>\n",
       "    <tr>\n",
       "      <th>4</th>\n",
       "      <td>99999</td>\n",
       "      <td>2024-12-30 23:45:00</td>\n",
       "      <td>1.04048</td>\n",
       "      <td>1.04059</td>\n",
       "      <td>1.04039</td>\n",
       "      <td>1.04056</td>\n",
       "    </tr>\n",
       "  </tbody>\n",
       "</table>\n",
       "</div>"
      ],
      "text/plain": [
       "    Time                 Open     High      Low    Close   Volume\n",
       "0  99995  2024-12-30 22:45:00  1.04021  1.04045  1.04017  1.04043\n",
       "1  99996  2024-12-30 23:00:00  1.04045  1.04050  1.03987  1.04009\n",
       "2  99997  2024-12-30 23:15:00  1.04010  1.04037  1.04009  1.04031\n",
       "3  99998  2024-12-30 23:30:00  1.04031  1.04055  1.04031  1.04049\n",
       "4  99999  2024-12-30 23:45:00  1.04048  1.04059  1.04039  1.04056"
      ]
     },
     "execution_count": 8,
     "metadata": {},
     "output_type": "execute_result"
    }
   ],
   "source": [
    "#df = csv_to_df(df)\n",
    "df2 = df.tail().reset_index(drop=True)\n",
    "df2\n",
    "#df2.copy()"
   ]
  },
  {
   "cell_type": "code",
   "execution_count": 50,
   "id": "d3a81b88-4b4f-4ea3-b4b6-1813ec7719a7",
   "metadata": {},
   "outputs": [
    {
     "data": {
      "application/vnd.plotly.v1+json": {
       "config": {
        "plotlyServerURL": "https://plot.ly"
       },
       "data": [
        {
         "close": [
          1.04153,
          1.04187,
          1.04219,
          1.04288,
          1.04304,
          1.04386,
          1.04385,
          1.04346,
          1.04338,
          1.04325,
          1.04337,
          1.04307,
          1.04321,
          1.04384,
          1.04337,
          1.0432,
          1.04323,
          1.04264,
          1.04174,
          1.04229,
          1.04298,
          1.04219,
          1.04257,
          1.04299,
          1.043,
          1.04221,
          1.04175,
          1.04192,
          1.04185,
          1.04212,
          1.0427,
          1.04244,
          1.04278,
          1.04262,
          1.04255,
          1.04259,
          1.04276,
          1.04282,
          1.04237,
          1.04232,
          1.04249,
          1.04257,
          1.04253,
          1.04233,
          1.04221,
          1.04225,
          1.04299,
          1.043,
          1.04282,
          1.04307,
          1.04324,
          1.04318,
          1.04295,
          1.04292,
          1.04259,
          1.04291,
          1.04299,
          1.04274,
          1.04258,
          1.04271,
          1.04302,
          1.04254,
          1.04263,
          1.04259,
          1.04271,
          1.04255,
          1.04212,
          1.04231,
          1.04251,
          1.04245,
          1.04251,
          1.04253,
          1.04254,
          1.04253,
          1.04256,
          1.04251,
          1.04245,
          1.04251,
          1.04287,
          1.04293,
          1.04284,
          1.04288,
          1.04257,
          1.04251,
          1.04257,
          1.04267,
          1.04236,
          1.04195,
          1.04215,
          1.04128,
          1.04146,
          1.04181,
          1.04216,
          1.04338,
          1.04416,
          1.04359,
          1.04389,
          1.04383,
          1.04432,
          1.04469,
          1.04469,
          1.04479,
          1.04573,
          1.04448,
          1.04479,
          1.04493,
          1.04398,
          1.04375,
          1.04313,
          1.03878,
          1.04019,
          1.04007,
          1.03903,
          1.04052,
          1.03934,
          1.03912,
          1.03834,
          1.03804,
          1.03805,
          1.0379,
          1.03885,
          1.03857,
          1.03897,
          1.03913,
          1.03886,
          1.03941,
          1.03978,
          1.03971,
          1.0403,
          1.04044,
          1.04003,
          1.04021,
          1.04016,
          1.03965,
          1.04017,
          1.04024,
          1.04023,
          1.03987,
          1.04005,
          1.03997,
          1.04039,
          1.04069,
          1.04017,
          1.04016,
          1.04022,
          1.04043,
          1.04009,
          1.04031,
          1.04049,
          1.04056
         ],
         "high": [
          1.04191,
          1.04213,
          1.04225,
          1.04318,
          1.04307,
          1.04407,
          1.0444,
          1.04405,
          1.04346,
          1.04346,
          1.0438,
          1.04337,
          1.04337,
          1.04384,
          1.04396,
          1.04348,
          1.04359,
          1.04377,
          1.04272,
          1.0424,
          1.04303,
          1.04357,
          1.04271,
          1.04302,
          1.04306,
          1.04324,
          1.04226,
          1.042,
          1.04193,
          1.04214,
          1.04276,
          1.0427,
          1.04288,
          1.04279,
          1.04283,
          1.04269,
          1.0428,
          1.04303,
          1.04283,
          1.04248,
          1.04272,
          1.04271,
          1.04259,
          1.04263,
          1.04239,
          1.04254,
          1.04309,
          1.04308,
          1.04302,
          1.04308,
          1.04346,
          1.04329,
          1.04319,
          1.04306,
          1.04304,
          1.043,
          1.04305,
          1.04311,
          1.0429,
          1.04282,
          1.04308,
          1.04301,
          1.04268,
          1.04268,
          1.04275,
          1.04273,
          1.04256,
          1.04235,
          1.04251,
          1.04255,
          1.04254,
          1.04256,
          1.04255,
          1.0426,
          1.0426,
          1.04261,
          1.04266,
          1.04267,
          1.04306,
          1.043,
          1.04314,
          1.04293,
          1.04294,
          1.04286,
          1.04259,
          1.04288,
          1.04297,
          1.04245,
          1.04227,
          1.04222,
          1.04186,
          1.04184,
          1.04239,
          1.04393,
          1.04439,
          1.04429,
          1.04396,
          1.0444,
          1.04435,
          1.04498,
          1.04508,
          1.04521,
          1.04583,
          1.04574,
          1.04492,
          1.04516,
          1.04518,
          1.04427,
          1.04377,
          1.04321,
          1.04041,
          1.04078,
          1.04005,
          1.04088,
          1.04056,
          1.03963,
          1.03956,
          1.03856,
          1.03842,
          1.03888,
          1.03914,
          1.039,
          1.03906,
          1.03935,
          1.03923,
          1.03953,
          1.03994,
          1.03997,
          1.04036,
          1.0407,
          1.04053,
          1.0403,
          1.04041,
          1.04022,
          1.04021,
          1.04051,
          1.04031,
          1.04042,
          1.04019,
          1.04014,
          1.04039,
          1.04069,
          1.04071,
          1.04022,
          1.04034,
          1.04045,
          1.0405,
          1.04037,
          1.04055,
          1.04059
         ],
         "low": [
          1.04116,
          1.04148,
          1.04185,
          1.04217,
          1.04281,
          1.04302,
          1.04381,
          1.04341,
          1.04295,
          1.04281,
          1.0432,
          1.04286,
          1.04307,
          1.04317,
          1.04326,
          1.04293,
          1.04306,
          1.04245,
          1.04171,
          1.04157,
          1.04219,
          1.04177,
          1.04207,
          1.04253,
          1.04256,
          1.0422,
          1.04161,
          1.04144,
          1.04155,
          1.0416,
          1.04207,
          1.04237,
          1.04244,
          1.04243,
          1.04237,
          1.0424,
          1.04242,
          1.04258,
          1.04229,
          1.04228,
          1.04227,
          1.04241,
          1.04235,
          1.04233,
          1.04216,
          1.04219,
          1.04247,
          1.04298,
          1.04282,
          1.04266,
          1.0427,
          1.04305,
          1.0428,
          1.04283,
          1.04258,
          1.04257,
          1.04282,
          1.04257,
          1.04253,
          1.04258,
          1.04269,
          1.0425,
          1.0424,
          1.04253,
          1.04245,
          1.04248,
          1.04208,
          1.04211,
          1.04228,
          1.04234,
          1.04243,
          1.04248,
          1.04251,
          1.0425,
          1.04247,
          1.04247,
          1.04242,
          1.04228,
          1.04251,
          1.04273,
          1.04282,
          1.04273,
          1.04246,
          1.04247,
          1.04209,
          1.04227,
          1.0423,
          1.04183,
          1.04169,
          1.04093,
          1.04109,
          1.04131,
          1.04169,
          1.04215,
          1.04327,
          1.04356,
          1.04352,
          1.04381,
          1.04368,
          1.04413,
          1.04459,
          1.04449,
          1.04471,
          1.0439,
          1.04409,
          1.04466,
          1.04391,
          1.0436,
          1.04309,
          1.03851,
          1.03799,
          1.04,
          1.03857,
          1.03903,
          1.03921,
          1.03869,
          1.03828,
          1.03717,
          1.03784,
          1.03747,
          1.03789,
          1.03789,
          1.03845,
          1.03877,
          1.03862,
          1.03876,
          1.03937,
          1.03957,
          1.03963,
          1.04025,
          1.0399,
          1.03981,
          1.04013,
          1.0396,
          1.03951,
          1.04016,
          1.04003,
          1.03985,
          1.03982,
          1.03995,
          1.03996,
          1.0403,
          1.03999,
          1.03991,
          1.04014,
          1.04017,
          1.03987,
          1.04009,
          1.04031,
          1.04039
         ],
         "name": "Price Action",
         "open": [
          1.04177,
          1.04152,
          1.04185,
          1.04218,
          1.04288,
          1.04303,
          1.04387,
          1.04386,
          1.04346,
          1.04338,
          1.04325,
          1.04337,
          1.04307,
          1.04323,
          1.04386,
          1.04337,
          1.04319,
          1.04324,
          1.04265,
          1.04175,
          1.04228,
          1.04298,
          1.04219,
          1.04257,
          1.04299,
          1.04301,
          1.0422,
          1.04176,
          1.04191,
          1.04186,
          1.0421,
          1.0427,
          1.04244,
          1.04279,
          1.04261,
          1.04254,
          1.04258,
          1.04275,
          1.04283,
          1.04237,
          1.04232,
          1.0425,
          1.04255,
          1.04253,
          1.04233,
          1.04221,
          1.04247,
          1.04298,
          1.04301,
          1.04282,
          1.04311,
          1.04326,
          1.04319,
          1.04295,
          1.04297,
          1.04259,
          1.04293,
          1.04298,
          1.04275,
          1.04259,
          1.04272,
          1.04301,
          1.04254,
          1.04261,
          1.04259,
          1.04272,
          1.04256,
          1.04211,
          1.04232,
          1.0425,
          1.04245,
          1.04252,
          1.04253,
          1.04253,
          1.04252,
          1.04257,
          1.0425,
          1.04245,
          1.04251,
          1.04287,
          1.04293,
          1.04285,
          1.04287,
          1.04257,
          1.04251,
          1.04256,
          1.04266,
          1.04237,
          1.04194,
          1.04215,
          1.04127,
          1.04145,
          1.04182,
          1.04215,
          1.04337,
          1.04416,
          1.04359,
          1.0439,
          1.04383,
          1.04431,
          1.04467,
          1.04468,
          1.0448,
          1.04573,
          1.0445,
          1.04482,
          1.04495,
          1.04398,
          1.04375,
          1.04314,
          1.0388,
          1.04018,
          1.04005,
          1.03903,
          1.04052,
          1.03935,
          1.03912,
          1.03833,
          1.03803,
          1.03805,
          1.03789,
          1.03884,
          1.03858,
          1.03897,
          1.03914,
          1.03887,
          1.03942,
          1.03979,
          1.03971,
          1.0403,
          1.04044,
          1.04002,
          1.04021,
          1.04017,
          1.03966,
          1.04019,
          1.04025,
          1.04024,
          1.03993,
          1.04005,
          1.03998,
          1.04038,
          1.04069,
          1.04018,
          1.04014,
          1.04021,
          1.04045,
          1.0401,
          1.04031,
          1.04048
         ],
         "type": "candlestick",
         "x": [
          "2024-12-27 10:30:00",
          "2024-12-27 10:45:00",
          "2024-12-27 11:00:00",
          "2024-12-27 11:15:00",
          "2024-12-27 11:30:00",
          "2024-12-27 11:45:00",
          "2024-12-27 12:00:00",
          "2024-12-27 12:15:00",
          "2024-12-27 12:30:00",
          "2024-12-27 12:45:00",
          "2024-12-27 13:00:00",
          "2024-12-27 13:15:00",
          "2024-12-27 13:30:00",
          "2024-12-27 13:45:00",
          "2024-12-27 14:00:00",
          "2024-12-27 14:15:00",
          "2024-12-27 14:30:00",
          "2024-12-27 14:45:00",
          "2024-12-27 15:00:00",
          "2024-12-27 15:15:00",
          "2024-12-27 15:30:00",
          "2024-12-27 15:45:00",
          "2024-12-27 16:00:00",
          "2024-12-27 16:15:00",
          "2024-12-27 16:30:00",
          "2024-12-27 16:45:00",
          "2024-12-27 17:00:00",
          "2024-12-27 17:15:00",
          "2024-12-27 17:30:00",
          "2024-12-27 17:45:00",
          "2024-12-27 18:00:00",
          "2024-12-27 18:15:00",
          "2024-12-27 18:30:00",
          "2024-12-27 18:45:00",
          "2024-12-27 19:00:00",
          "2024-12-27 19:15:00",
          "2024-12-27 19:30:00",
          "2024-12-27 19:45:00",
          "2024-12-27 20:00:00",
          "2024-12-27 20:15:00",
          "2024-12-27 20:30:00",
          "2024-12-27 20:45:00",
          "2024-12-27 21:00:00",
          "2024-12-27 21:15:00",
          "2024-12-27 21:30:00",
          "2024-12-27 21:45:00",
          "2024-12-29 22:00:00",
          "2024-12-29 22:15:00",
          "2024-12-29 22:30:00",
          "2024-12-29 22:45:00",
          "2024-12-29 23:00:00",
          "2024-12-29 23:15:00",
          "2024-12-29 23:30:00",
          "2024-12-29 23:45:00",
          "2024-12-30 00:00:00",
          "2024-12-30 00:15:00",
          "2024-12-30 00:30:00",
          "2024-12-30 00:45:00",
          "2024-12-30 01:00:00",
          "2024-12-30 01:15:00",
          "2024-12-30 01:30:00",
          "2024-12-30 01:45:00",
          "2024-12-30 02:00:00",
          "2024-12-30 02:15:00",
          "2024-12-30 02:30:00",
          "2024-12-30 02:45:00",
          "2024-12-30 03:00:00",
          "2024-12-30 03:15:00",
          "2024-12-30 03:30:00",
          "2024-12-30 03:45:00",
          "2024-12-30 04:00:00",
          "2024-12-30 04:15:00",
          "2024-12-30 04:30:00",
          "2024-12-30 04:45:00",
          "2024-12-30 05:00:00",
          "2024-12-30 05:15:00",
          "2024-12-30 05:30:00",
          "2024-12-30 05:45:00",
          "2024-12-30 06:00:00",
          "2024-12-30 06:15:00",
          "2024-12-30 06:30:00",
          "2024-12-30 06:45:00",
          "2024-12-30 07:00:00",
          "2024-12-30 07:15:00",
          "2024-12-30 07:30:00",
          "2024-12-30 07:45:00",
          "2024-12-30 08:00:00",
          "2024-12-30 08:15:00",
          "2024-12-30 08:30:00",
          "2024-12-30 08:45:00",
          "2024-12-30 09:00:00",
          "2024-12-30 09:15:00",
          "2024-12-30 09:30:00",
          "2024-12-30 09:45:00",
          "2024-12-30 10:00:00",
          "2024-12-30 10:15:00",
          "2024-12-30 10:30:00",
          "2024-12-30 10:45:00",
          "2024-12-30 11:00:00",
          "2024-12-30 11:15:00",
          "2024-12-30 11:30:00",
          "2024-12-30 11:45:00",
          "2024-12-30 12:00:00",
          "2024-12-30 12:15:00",
          "2024-12-30 12:30:00",
          "2024-12-30 12:45:00",
          "2024-12-30 13:00:00",
          "2024-12-30 13:15:00",
          "2024-12-30 13:30:00",
          "2024-12-30 13:45:00",
          "2024-12-30 14:00:00",
          "2024-12-30 14:15:00",
          "2024-12-30 14:30:00",
          "2024-12-30 14:45:00",
          "2024-12-30 15:00:00",
          "2024-12-30 15:15:00",
          "2024-12-30 15:30:00",
          "2024-12-30 15:45:00",
          "2024-12-30 16:00:00",
          "2024-12-30 16:15:00",
          "2024-12-30 16:30:00",
          "2024-12-30 16:45:00",
          "2024-12-30 17:00:00",
          "2024-12-30 17:15:00",
          "2024-12-30 17:30:00",
          "2024-12-30 17:45:00",
          "2024-12-30 18:00:00",
          "2024-12-30 18:15:00",
          "2024-12-30 18:30:00",
          "2024-12-30 18:45:00",
          "2024-12-30 19:00:00",
          "2024-12-30 19:15:00",
          "2024-12-30 19:30:00",
          "2024-12-30 19:45:00",
          "2024-12-30 20:00:00",
          "2024-12-30 20:15:00",
          "2024-12-30 20:30:00",
          "2024-12-30 20:45:00",
          "2024-12-30 21:00:00",
          "2024-12-30 21:15:00",
          "2024-12-30 21:30:00",
          "2024-12-30 21:45:00",
          "2024-12-30 22:00:00",
          "2024-12-30 22:15:00",
          "2024-12-30 22:30:00",
          "2024-12-30 22:45:00",
          "2024-12-30 23:00:00",
          "2024-12-30 23:15:00",
          "2024-12-30 23:30:00",
          "2024-12-30 23:45:00"
         ],
         "xaxis": "x",
         "yaxis": "y"
        },
        {
         "hoverinfo": "text",
         "marker": {
          "color": "red",
          "line": {
           "color": "black",
           "width": 1
          },
          "size": 10,
          "symbol": "triangle-down"
         },
         "mode": "markers",
         "name": "Short Entry",
         "showlegend": false,
         "text": "Short 1 entry at 1.04264\nTP: 1.03964\nSL: 1.04364",
         "type": "scatter",
         "x": [
          "2024-12-27 14:45:00"
         ],
         "xaxis": "x",
         "y": [
          1.04264
         ],
         "yaxis": "y"
        },
        {
         "legendgroup": "trade_0",
         "line": {
          "color": "green",
          "dash": "dot",
          "width": 2
         },
         "mode": "lines",
         "name": "TP 1 (1.03964)",
         "showlegend": true,
         "type": "scatter",
         "visible": "legendonly",
         "x": [
          "2024-12-27 10:30:00",
          "2024-12-30 23:45:00"
         ],
         "xaxis": "x",
         "y": [
          1.0396400000000001,
          1.0396400000000001
         ],
         "yaxis": "y"
        },
        {
         "legendgroup": "trade_0",
         "line": {
          "color": "red",
          "dash": "dot",
          "width": 2
         },
         "mode": "lines",
         "name": "SL 1 (1.04364)",
         "showlegend": true,
         "type": "scatter",
         "visible": "legendonly",
         "x": [
          "2024-12-27 10:30:00",
          "2024-12-30 23:45:00"
         ],
         "xaxis": "x",
         "y": [
          1.04364,
          1.04364
         ],
         "yaxis": "y"
        },
        {
         "hoverinfo": "text",
         "marker": {
          "color": "red",
          "line": {
           "color": "black",
           "width": 1
          },
          "size": 10,
          "symbol": "triangle-down"
         },
         "mode": "markers",
         "name": "Short Entry",
         "showlegend": false,
         "text": "Short 2 entry at 1.04298\nTP: 1.03998\nSL: 1.04398",
         "type": "scatter",
         "x": [
          "2024-12-27 15:30:00"
         ],
         "xaxis": "x",
         "y": [
          1.04298
         ],
         "yaxis": "y"
        },
        {
         "legendgroup": "trade_1",
         "line": {
          "color": "green",
          "dash": "dot",
          "width": 2
         },
         "mode": "lines",
         "name": "TP 2 (1.03998)",
         "showlegend": true,
         "type": "scatter",
         "visible": "legendonly",
         "x": [
          "2024-12-27 10:30:00",
          "2024-12-30 23:45:00"
         ],
         "xaxis": "x",
         "y": [
          1.0399800000000001,
          1.0399800000000001
         ],
         "yaxis": "y"
        },
        {
         "legendgroup": "trade_1",
         "line": {
          "color": "red",
          "dash": "dot",
          "width": 2
         },
         "mode": "lines",
         "name": "SL 2 (1.04398)",
         "showlegend": true,
         "type": "scatter",
         "visible": "legendonly",
         "x": [
          "2024-12-27 10:30:00",
          "2024-12-30 23:45:00"
         ],
         "xaxis": "x",
         "y": [
          1.04398,
          1.04398
         ],
         "yaxis": "y"
        },
        {
         "hoverinfo": "text",
         "marker": {
          "color": "red",
          "line": {
           "color": "black",
           "width": 1
          },
          "size": 10,
          "symbol": "triangle-down"
         },
         "mode": "markers",
         "name": "Short Entry",
         "showlegend": false,
         "text": "Short 3 entry at 1.04221\nTP: 1.03921\nSL: 1.04321",
         "type": "scatter",
         "x": [
          "2024-12-27 16:45:00"
         ],
         "xaxis": "x",
         "y": [
          1.04221
         ],
         "yaxis": "y"
        },
        {
         "legendgroup": "trade_2",
         "line": {
          "color": "green",
          "dash": "dot",
          "width": 2
         },
         "mode": "lines",
         "name": "TP 3 (1.03921)",
         "showlegend": true,
         "type": "scatter",
         "visible": "legendonly",
         "x": [
          "2024-12-27 10:30:00",
          "2024-12-30 23:45:00"
         ],
         "xaxis": "x",
         "y": [
          1.0392100000000002,
          1.0392100000000002
         ],
         "yaxis": "y"
        },
        {
         "legendgroup": "trade_2",
         "line": {
          "color": "red",
          "dash": "dot",
          "width": 2
         },
         "mode": "lines",
         "name": "SL 3 (1.04321)",
         "showlegend": true,
         "type": "scatter",
         "visible": "legendonly",
         "x": [
          "2024-12-27 10:30:00",
          "2024-12-30 23:45:00"
         ],
         "xaxis": "x",
         "y": [
          1.04321,
          1.04321
         ],
         "yaxis": "y"
        },
        {
         "hoverinfo": "text",
         "marker": {
          "color": "green",
          "line": {
           "color": "black",
           "width": 1
          },
          "size": 10,
          "symbol": "triangle-up"
         },
         "mode": "markers",
         "name": "Long Entry",
         "showlegend": false,
         "text": "Long 4 entry at 1.04212\nTP: 1.04512\nSL: 1.04112",
         "type": "scatter",
         "x": [
          "2024-12-27 17:45:00"
         ],
         "xaxis": "x",
         "y": [
          1.04212
         ],
         "yaxis": "y"
        },
        {
         "legendgroup": "trade_3",
         "line": {
          "color": "green",
          "dash": "dot",
          "width": 2
         },
         "mode": "lines",
         "name": "TP 4 (1.04512)",
         "showlegend": true,
         "type": "scatter",
         "visible": "legendonly",
         "x": [
          "2024-12-27 10:30:00",
          "2024-12-30 23:45:00"
         ],
         "xaxis": "x",
         "y": [
          1.0451199999999998,
          1.0451199999999998
         ],
         "yaxis": "y"
        },
        {
         "legendgroup": "trade_3",
         "line": {
          "color": "red",
          "dash": "dot",
          "width": 2
         },
         "mode": "lines",
         "name": "SL 4 (1.04112)",
         "showlegend": true,
         "type": "scatter",
         "visible": "legendonly",
         "x": [
          "2024-12-27 10:30:00",
          "2024-12-30 23:45:00"
         ],
         "xaxis": "x",
         "y": [
          1.04112,
          1.04112
         ],
         "yaxis": "y"
        },
        {
         "hoverinfo": "text",
         "marker": {
          "color": "red",
          "line": {
           "color": "black",
           "width": 1
          },
          "size": 10,
          "symbol": "triangle-down"
         },
         "mode": "markers",
         "name": "Short Entry",
         "showlegend": false,
         "text": "Short 5 entry at 1.04270\nTP: 1.03970\nSL: 1.04370",
         "type": "scatter",
         "x": [
          "2024-12-27 18:00:00"
         ],
         "xaxis": "x",
         "y": [
          1.0427
         ],
         "yaxis": "y"
        },
        {
         "legendgroup": "trade_4",
         "line": {
          "color": "green",
          "dash": "dot",
          "width": 2
         },
         "mode": "lines",
         "name": "TP 5 (1.03970)",
         "showlegend": true,
         "type": "scatter",
         "visible": "legendonly",
         "x": [
          "2024-12-27 10:30:00",
          "2024-12-30 23:45:00"
         ],
         "xaxis": "x",
         "y": [
          1.0397,
          1.0397
         ],
         "yaxis": "y"
        },
        {
         "legendgroup": "trade_4",
         "line": {
          "color": "red",
          "dash": "dot",
          "width": 2
         },
         "mode": "lines",
         "name": "SL 5 (1.04370)",
         "showlegend": true,
         "type": "scatter",
         "visible": "legendonly",
         "x": [
          "2024-12-27 10:30:00",
          "2024-12-30 23:45:00"
         ],
         "xaxis": "x",
         "y": [
          1.0436999999999999,
          1.0436999999999999
         ],
         "yaxis": "y"
        },
        {
         "hoverinfo": "text",
         "marker": {
          "color": "red",
          "line": {
           "color": "black",
           "width": 1
          },
          "size": 10,
          "symbol": "triangle-down"
         },
         "mode": "markers",
         "name": "Short Entry",
         "showlegend": false,
         "text": "Short 6 entry at 1.04237\nTP: 1.03937\nSL: 1.04337",
         "type": "scatter",
         "x": [
          "2024-12-27 20:00:00"
         ],
         "xaxis": "x",
         "y": [
          1.04237
         ],
         "yaxis": "y"
        },
        {
         "legendgroup": "trade_5",
         "line": {
          "color": "green",
          "dash": "dot",
          "width": 2
         },
         "mode": "lines",
         "name": "TP 6 (1.03937)",
         "showlegend": true,
         "type": "scatter",
         "visible": "legendonly",
         "x": [
          "2024-12-27 10:30:00",
          "2024-12-30 23:45:00"
         ],
         "xaxis": "x",
         "y": [
          1.0393700000000001,
          1.0393700000000001
         ],
         "yaxis": "y"
        },
        {
         "legendgroup": "trade_5",
         "line": {
          "color": "red",
          "dash": "dot",
          "width": 2
         },
         "mode": "lines",
         "name": "SL 6 (1.04337)",
         "showlegend": true,
         "type": "scatter",
         "visible": "legendonly",
         "x": [
          "2024-12-27 10:30:00",
          "2024-12-30 23:45:00"
         ],
         "xaxis": "x",
         "y": [
          1.04337,
          1.04337
         ],
         "yaxis": "y"
        },
        {
         "hoverinfo": "text",
         "marker": {
          "color": "red",
          "line": {
           "color": "black",
           "width": 1
          },
          "size": 10,
          "symbol": "triangle-down"
         },
         "mode": "markers",
         "name": "Short Entry",
         "showlegend": false,
         "text": "Short 7 entry at 1.04249\nTP: 1.03949\nSL: 1.04349",
         "type": "scatter",
         "x": [
          "2024-12-27 20:30:00"
         ],
         "xaxis": "x",
         "y": [
          1.04249
         ],
         "yaxis": "y"
        },
        {
         "legendgroup": "trade_6",
         "line": {
          "color": "green",
          "dash": "dot",
          "width": 2
         },
         "mode": "lines",
         "name": "TP 7 (1.03949)",
         "showlegend": true,
         "type": "scatter",
         "visible": "legendonly",
         "x": [
          "2024-12-27 10:30:00",
          "2024-12-30 23:45:00"
         ],
         "xaxis": "x",
         "y": [
          1.03949,
          1.03949
         ],
         "yaxis": "y"
        },
        {
         "legendgroup": "trade_6",
         "line": {
          "color": "red",
          "dash": "dot",
          "width": 2
         },
         "mode": "lines",
         "name": "SL 7 (1.04349)",
         "showlegend": true,
         "type": "scatter",
         "visible": "legendonly",
         "x": [
          "2024-12-27 10:30:00",
          "2024-12-30 23:45:00"
         ],
         "xaxis": "x",
         "y": [
          1.0434899999999998,
          1.0434899999999998
         ],
         "yaxis": "y"
        },
        {
         "hoverinfo": "text",
         "marker": {
          "color": "green",
          "line": {
           "color": "black",
           "width": 1
          },
          "size": 10,
          "symbol": "triangle-up"
         },
         "mode": "markers",
         "name": "Long Entry",
         "showlegend": false,
         "text": "Long 8 entry at 1.04225\nTP: 1.04525\nSL: 1.04125",
         "type": "scatter",
         "x": [
          "2024-12-27 21:45:00"
         ],
         "xaxis": "x",
         "y": [
          1.04225
         ],
         "yaxis": "y"
        },
        {
         "legendgroup": "trade_7",
         "line": {
          "color": "green",
          "dash": "dot",
          "width": 2
         },
         "mode": "lines",
         "name": "TP 8 (1.04525)",
         "showlegend": true,
         "type": "scatter",
         "visible": "legendonly",
         "x": [
          "2024-12-27 10:30:00",
          "2024-12-30 23:45:00"
         ],
         "xaxis": "x",
         "y": [
          1.0452499999999998,
          1.0452499999999998
         ],
         "yaxis": "y"
        },
        {
         "legendgroup": "trade_7",
         "line": {
          "color": "red",
          "dash": "dot",
          "width": 2
         },
         "mode": "lines",
         "name": "SL 8 (1.04125)",
         "showlegend": true,
         "type": "scatter",
         "visible": "legendonly",
         "x": [
          "2024-12-27 10:30:00",
          "2024-12-30 23:45:00"
         ],
         "xaxis": "x",
         "y": [
          1.04125,
          1.04125
         ],
         "yaxis": "y"
        },
        {
         "hoverinfo": "text",
         "marker": {
          "color": "green",
          "line": {
           "color": "black",
           "width": 1
          },
          "size": 10,
          "symbol": "triangle-up"
         },
         "mode": "markers",
         "name": "Long Entry",
         "showlegend": false,
         "text": "Long 9 entry at 1.04259\nTP: 1.04559\nSL: 1.04159",
         "type": "scatter",
         "x": [
          "2024-12-30 00:00:00"
         ],
         "xaxis": "x",
         "y": [
          1.04259
         ],
         "yaxis": "y"
        },
        {
         "legendgroup": "trade_8",
         "line": {
          "color": "green",
          "dash": "dot",
          "width": 2
         },
         "mode": "lines",
         "name": "TP 9 (1.04559)",
         "showlegend": true,
         "type": "scatter",
         "visible": "legendonly",
         "x": [
          "2024-12-27 10:30:00",
          "2024-12-30 23:45:00"
         ],
         "xaxis": "x",
         "y": [
          1.0455899999999998,
          1.0455899999999998
         ],
         "yaxis": "y"
        },
        {
         "legendgroup": "trade_8",
         "line": {
          "color": "red",
          "dash": "dot",
          "width": 2
         },
         "mode": "lines",
         "name": "SL 9 (1.04159)",
         "showlegend": true,
         "type": "scatter",
         "visible": "legendonly",
         "x": [
          "2024-12-27 10:30:00",
          "2024-12-30 23:45:00"
         ],
         "xaxis": "x",
         "y": [
          1.04159,
          1.04159
         ],
         "yaxis": "y"
        },
        {
         "hoverinfo": "text",
         "marker": {
          "color": "red",
          "line": {
           "color": "black",
           "width": 1
          },
          "size": 10,
          "symbol": "triangle-down"
         },
         "mode": "markers",
         "name": "Short Entry",
         "showlegend": false,
         "text": "Short 10 entry at 1.04254\nTP: 1.03954\nSL: 1.04354",
         "type": "scatter",
         "x": [
          "2024-12-30 01:45:00"
         ],
         "xaxis": "x",
         "y": [
          1.04254
         ],
         "yaxis": "y"
        },
        {
         "legendgroup": "trade_9",
         "line": {
          "color": "green",
          "dash": "dot",
          "width": 2
         },
         "mode": "lines",
         "name": "TP 10 (1.03954)",
         "showlegend": true,
         "type": "scatter",
         "visible": "legendonly",
         "x": [
          "2024-12-27 10:30:00",
          "2024-12-30 23:45:00"
         ],
         "xaxis": "x",
         "y": [
          1.0395400000000001,
          1.0395400000000001
         ],
         "yaxis": "y"
        },
        {
         "legendgroup": "trade_9",
         "line": {
          "color": "red",
          "dash": "dot",
          "width": 2
         },
         "mode": "lines",
         "name": "SL 10 (1.04354)",
         "showlegend": true,
         "type": "scatter",
         "visible": "legendonly",
         "x": [
          "2024-12-27 10:30:00",
          "2024-12-30 23:45:00"
         ],
         "xaxis": "x",
         "y": [
          1.04354,
          1.04354
         ],
         "yaxis": "y"
        },
        {
         "hoverinfo": "text",
         "marker": {
          "color": "red",
          "line": {
           "color": "black",
           "width": 1
          },
          "size": 10,
          "symbol": "triangle-down"
         },
         "mode": "markers",
         "name": "Short Entry",
         "showlegend": false,
         "text": "Short 11 entry at 1.04271\nTP: 1.03971\nSL: 1.04371",
         "type": "scatter",
         "x": [
          "2024-12-30 02:30:00"
         ],
         "xaxis": "x",
         "y": [
          1.04271
         ],
         "yaxis": "y"
        },
        {
         "legendgroup": "trade_10",
         "line": {
          "color": "green",
          "dash": "dot",
          "width": 2
         },
         "mode": "lines",
         "name": "TP 11 (1.03971)",
         "showlegend": true,
         "type": "scatter",
         "visible": "legendonly",
         "x": [
          "2024-12-27 10:30:00",
          "2024-12-30 23:45:00"
         ],
         "xaxis": "x",
         "y": [
          1.0397100000000001,
          1.0397100000000001
         ],
         "yaxis": "y"
        },
        {
         "legendgroup": "trade_10",
         "line": {
          "color": "red",
          "dash": "dot",
          "width": 2
         },
         "mode": "lines",
         "name": "SL 11 (1.04371)",
         "showlegend": true,
         "type": "scatter",
         "visible": "legendonly",
         "x": [
          "2024-12-27 10:30:00",
          "2024-12-30 23:45:00"
         ],
         "xaxis": "x",
         "y": [
          1.04371,
          1.04371
         ],
         "yaxis": "y"
        },
        {
         "hoverinfo": "text",
         "marker": {
          "color": "green",
          "line": {
           "color": "black",
           "width": 1
          },
          "size": 10,
          "symbol": "triangle-up"
         },
         "mode": "markers",
         "name": "Long Entry",
         "showlegend": false,
         "text": "Long 12 entry at 1.04212\nTP: 1.04512\nSL: 1.04112",
         "type": "scatter",
         "x": [
          "2024-12-30 03:00:00"
         ],
         "xaxis": "x",
         "y": [
          1.04212
         ],
         "yaxis": "y"
        },
        {
         "legendgroup": "trade_11",
         "line": {
          "color": "green",
          "dash": "dot",
          "width": 2
         },
         "mode": "lines",
         "name": "TP 12 (1.04512)",
         "showlegend": true,
         "type": "scatter",
         "visible": "legendonly",
         "x": [
          "2024-12-27 10:30:00",
          "2024-12-30 23:45:00"
         ],
         "xaxis": "x",
         "y": [
          1.0451199999999998,
          1.0451199999999998
         ],
         "yaxis": "y"
        },
        {
         "legendgroup": "trade_11",
         "line": {
          "color": "red",
          "dash": "dot",
          "width": 2
         },
         "mode": "lines",
         "name": "SL 12 (1.04112)",
         "showlegend": true,
         "type": "scatter",
         "visible": "legendonly",
         "x": [
          "2024-12-27 10:30:00",
          "2024-12-30 23:45:00"
         ],
         "xaxis": "x",
         "y": [
          1.04112,
          1.04112
         ],
         "yaxis": "y"
        },
        {
         "hoverinfo": "text",
         "marker": {
          "color": "red",
          "line": {
           "color": "black",
           "width": 1
          },
          "size": 10,
          "symbol": "triangle-down"
         },
         "mode": "markers",
         "name": "Short Entry",
         "showlegend": false,
         "text": "Short 13 entry at 1.04398\nTP: 1.04098\nSL: 1.04498",
         "type": "scatter",
         "x": [
          "2024-12-30 13:00:00"
         ],
         "xaxis": "x",
         "y": [
          1.04398
         ],
         "yaxis": "y"
        },
        {
         "legendgroup": "trade_12",
         "line": {
          "color": "green",
          "dash": "dot",
          "width": 2
         },
         "mode": "lines",
         "name": "TP 13 (1.04098)",
         "showlegend": true,
         "type": "scatter",
         "visible": "legendonly",
         "x": [
          "2024-12-27 10:30:00",
          "2024-12-30 23:45:00"
         ],
         "xaxis": "x",
         "y": [
          1.04098,
          1.04098
         ],
         "yaxis": "y"
        },
        {
         "legendgroup": "trade_12",
         "line": {
          "color": "red",
          "dash": "dot",
          "width": 2
         },
         "mode": "lines",
         "name": "SL 13 (1.04498)",
         "showlegend": true,
         "type": "scatter",
         "visible": "legendonly",
         "x": [
          "2024-12-27 10:30:00",
          "2024-12-30 23:45:00"
         ],
         "xaxis": "x",
         "y": [
          1.0449799999999998,
          1.0449799999999998
         ],
         "yaxis": "y"
        },
        {
         "hoverinfo": "text",
         "marker": {
          "color": "green",
          "line": {
           "color": "black",
           "width": 1
          },
          "size": 10,
          "symbol": "triangle-up"
         },
         "mode": "markers",
         "name": "Long Entry",
         "showlegend": false,
         "text": "Long 14 entry at 1.03941\nTP: 1.04241\nSL: 1.03841",
         "type": "scatter",
         "x": [
          "2024-12-30 17:45:00"
         ],
         "xaxis": "x",
         "y": [
          1.03941
         ],
         "yaxis": "y"
        },
        {
         "legendgroup": "trade_13",
         "line": {
          "color": "green",
          "dash": "dot",
          "width": 2
         },
         "mode": "lines",
         "name": "TP 14 (1.04241)",
         "showlegend": true,
         "type": "scatter",
         "visible": "legendonly",
         "x": [
          "2024-12-27 10:30:00",
          "2024-12-30 23:45:00"
         ],
         "xaxis": "x",
         "y": [
          1.0424099999999998,
          1.0424099999999998
         ],
         "yaxis": "y"
        },
        {
         "legendgroup": "trade_13",
         "line": {
          "color": "red",
          "dash": "dot",
          "width": 2
         },
         "mode": "lines",
         "name": "SL 14 (1.03841)",
         "showlegend": true,
         "type": "scatter",
         "visible": "legendonly",
         "x": [
          "2024-12-27 10:30:00",
          "2024-12-30 23:45:00"
         ],
         "xaxis": "x",
         "y": [
          1.03841,
          1.03841
         ],
         "yaxis": "y"
        },
        {
         "hoverinfo": "text",
         "marker": {
          "color": "green",
          "line": {
           "color": "black",
           "width": 1
          },
          "size": 10,
          "symbol": "triangle-up"
         },
         "mode": "markers",
         "name": "Long Entry",
         "showlegend": false,
         "text": "Long 15 entry at 1.04030\nTP: 1.04330\nSL: 1.03930",
         "type": "scatter",
         "x": [
          "2024-12-30 18:30:00"
         ],
         "xaxis": "x",
         "y": [
          1.0403
         ],
         "yaxis": "y"
        },
        {
         "legendgroup": "trade_14",
         "line": {
          "color": "green",
          "dash": "dot",
          "width": 2
         },
         "mode": "lines",
         "name": "TP 15 (1.04330)",
         "showlegend": true,
         "type": "scatter",
         "visible": "legendonly",
         "x": [
          "2024-12-27 10:30:00",
          "2024-12-30 23:45:00"
         ],
         "xaxis": "x",
         "y": [
          1.0433,
          1.0433
         ],
         "yaxis": "y"
        },
        {
         "legendgroup": "trade_14",
         "line": {
          "color": "red",
          "dash": "dot",
          "width": 2
         },
         "mode": "lines",
         "name": "SL 15 (1.03930)",
         "showlegend": true,
         "type": "scatter",
         "visible": "legendonly",
         "x": [
          "2024-12-27 10:30:00",
          "2024-12-30 23:45:00"
         ],
         "xaxis": "x",
         "y": [
          1.0393000000000001,
          1.0393000000000001
         ],
         "yaxis": "y"
        },
        {
         "hoverinfo": "text",
         "marker": {
          "color": "green",
          "line": {
           "color": "black",
           "width": 1
          },
          "size": 10,
          "symbol": "triangle-up"
         },
         "mode": "markers",
         "name": "Long Entry",
         "showlegend": false,
         "text": "Long 16 entry at 1.04003\nTP: 1.04303\nSL: 1.03903",
         "type": "scatter",
         "x": [
          "2024-12-30 19:00:00"
         ],
         "xaxis": "x",
         "y": [
          1.04003
         ],
         "yaxis": "y"
        },
        {
         "legendgroup": "trade_15",
         "line": {
          "color": "green",
          "dash": "dot",
          "width": 2
         },
         "mode": "lines",
         "name": "TP 16 (1.04303)",
         "showlegend": true,
         "type": "scatter",
         "visible": "legendonly",
         "x": [
          "2024-12-27 10:30:00",
          "2024-12-30 23:45:00"
         ],
         "xaxis": "x",
         "y": [
          1.04303,
          1.04303
         ],
         "yaxis": "y"
        },
        {
         "legendgroup": "trade_15",
         "line": {
          "color": "red",
          "dash": "dot",
          "width": 2
         },
         "mode": "lines",
         "name": "SL 16 (1.03903)",
         "showlegend": true,
         "type": "scatter",
         "visible": "legendonly",
         "x": [
          "2024-12-27 10:30:00",
          "2024-12-30 23:45:00"
         ],
         "xaxis": "x",
         "y": [
          1.0390300000000001,
          1.0390300000000001
         ],
         "yaxis": "y"
        },
        {
         "hoverinfo": "text",
         "marker": {
          "color": "green",
          "line": {
           "color": "black",
           "width": 1
          },
          "size": 10,
          "symbol": "triangle-up"
         },
         "mode": "markers",
         "name": "Long Entry",
         "showlegend": false,
         "text": "Long 17 entry at 1.04039\nTP: 1.04339\nSL: 1.03939",
         "type": "scatter",
         "x": [
          "2024-12-30 21:30:00"
         ],
         "xaxis": "x",
         "y": [
          1.04039
         ],
         "yaxis": "y"
        },
        {
         "legendgroup": "trade_16",
         "line": {
          "color": "green",
          "dash": "dot",
          "width": 2
         },
         "mode": "lines",
         "name": "TP 17 (1.04339)",
         "showlegend": true,
         "type": "scatter",
         "visible": "legendonly",
         "x": [
          "2024-12-27 10:30:00",
          "2024-12-30 23:45:00"
         ],
         "xaxis": "x",
         "y": [
          1.0433899999999998,
          1.0433899999999998
         ],
         "yaxis": "y"
        },
        {
         "legendgroup": "trade_16",
         "line": {
          "color": "red",
          "dash": "dot",
          "width": 2
         },
         "mode": "lines",
         "name": "SL 17 (1.03939)",
         "showlegend": true,
         "type": "scatter",
         "visible": "legendonly",
         "x": [
          "2024-12-27 10:30:00",
          "2024-12-30 23:45:00"
         ],
         "xaxis": "x",
         "y": [
          1.03939,
          1.03939
         ],
         "yaxis": "y"
        },
        {
         "hoverinfo": "text",
         "marker": {
          "color": "red",
          "line": {
           "color": "black",
           "width": 1
          },
          "size": 10,
          "symbol": "triangle-down"
         },
         "mode": "markers",
         "name": "Short Entry",
         "showlegend": false,
         "text": "Short 18 entry at 1.04017\nTP: 1.03717\nSL: 1.04117",
         "type": "scatter",
         "x": [
          "2024-12-30 22:00:00"
         ],
         "xaxis": "x",
         "y": [
          1.04017
         ],
         "yaxis": "y"
        },
        {
         "legendgroup": "trade_17",
         "line": {
          "color": "green",
          "dash": "dot",
          "width": 2
         },
         "mode": "lines",
         "name": "TP 18 (1.03717)",
         "showlegend": true,
         "type": "scatter",
         "visible": "legendonly",
         "x": [
          "2024-12-27 10:30:00",
          "2024-12-30 23:45:00"
         ],
         "xaxis": "x",
         "y": [
          1.0371700000000001,
          1.0371700000000001
         ],
         "yaxis": "y"
        },
        {
         "legendgroup": "trade_17",
         "line": {
          "color": "red",
          "dash": "dot",
          "width": 2
         },
         "mode": "lines",
         "name": "SL 18 (1.04117)",
         "showlegend": true,
         "type": "scatter",
         "visible": "legendonly",
         "x": [
          "2024-12-27 10:30:00",
          "2024-12-30 23:45:00"
         ],
         "xaxis": "x",
         "y": [
          1.04117,
          1.04117
         ],
         "yaxis": "y"
        },
        {
         "hoverinfo": "text",
         "marker": {
          "color": "red",
          "line": {
           "color": "black",
           "width": 1
          },
          "size": 10,
          "symbol": "triangle-down"
         },
         "mode": "markers",
         "name": "Short Entry",
         "showlegend": false,
         "text": "Short 19 entry at 1.04022\nTP: 1.03722\nSL: 1.04122",
         "type": "scatter",
         "x": [
          "2024-12-30 22:30:00"
         ],
         "xaxis": "x",
         "y": [
          1.04022
         ],
         "yaxis": "y"
        },
        {
         "legendgroup": "trade_18",
         "line": {
          "color": "green",
          "dash": "dot",
          "width": 2
         },
         "mode": "lines",
         "name": "TP 19 (1.03722)",
         "showlegend": true,
         "type": "scatter",
         "visible": "legendonly",
         "x": [
          "2024-12-27 10:30:00",
          "2024-12-30 23:45:00"
         ],
         "xaxis": "x",
         "y": [
          1.03722,
          1.03722
         ],
         "yaxis": "y"
        },
        {
         "legendgroup": "trade_18",
         "line": {
          "color": "red",
          "dash": "dot",
          "width": 2
         },
         "mode": "lines",
         "name": "SL 19 (1.04122)",
         "showlegend": true,
         "type": "scatter",
         "visible": "legendonly",
         "x": [
          "2024-12-27 10:30:00",
          "2024-12-30 23:45:00"
         ],
         "xaxis": "x",
         "y": [
          1.0412199999999998,
          1.0412199999999998
         ],
         "yaxis": "y"
        },
        {
         "line": {
          "color": "blue"
         },
         "mode": "lines+markers",
         "name": "Equity Curve",
         "type": "scatter",
         "x": [
          "2024-12-27 14:45:00",
          "2024-12-27 15:30:00",
          "2024-12-27 16:45:00",
          "2024-12-27 17:45:00",
          "2024-12-27 18:00:00",
          "2024-12-27 20:00:00",
          "2024-12-27 20:30:00",
          "2024-12-27 21:45:00",
          "2024-12-30 00:00:00",
          "2024-12-30 01:45:00",
          "2024-12-30 02:30:00",
          "2024-12-30 03:00:00",
          "2024-12-30 13:00:00",
          "2024-12-30 17:45:00",
          "2024-12-30 18:30:00",
          "2024-12-30 19:00:00",
          "2024-12-30 21:30:00",
          "2024-12-30 22:00:00",
          "2024-12-30 22:30:00"
         ],
         "xaxis": "x2",
         "y": [
          88.52241378795387,
          79.54504296314418,
          70.36698590560448,
          61.66950802829895,
          55.01552083905689,
          49.03949977738684,
          44.28595896796252,
          39.768256108164756,
          36.38432525014086,
          32.968212112838316,
          29.683381318408067,
          27.364571151520867,
          32.97237943317182,
          32.97237943317182,
          32.97237943317182,
          32.97237943317182,
          32.97237943317182,
          32.97237943317182,
          32.97237943317182
         ],
         "yaxis": "y2"
        }
       ],
       "layout": {
        "annotations": [
         {
          "font": {
           "size": 16
          },
          "showarrow": false,
          "text": "fvg_strategy",
          "x": 0.5,
          "xanchor": "center",
          "xref": "paper",
          "y": 1,
          "yanchor": "bottom",
          "yref": "paper"
         },
         {
          "font": {
           "size": 16
          },
          "showarrow": false,
          "text": "Equity Curve",
          "x": 0.5,
          "xanchor": "center",
          "xref": "paper",
          "y": 0.27,
          "yanchor": "bottom",
          "yref": "paper"
         }
        ],
        "height": 700,
        "hovermode": "closest",
        "legend": {
         "orientation": "v",
         "x": 1.01,
         "xanchor": "left",
         "y": 1,
         "yanchor": "top"
        },
        "template": {
         "data": {
          "bar": [
           {
            "error_x": {
             "color": "#2a3f5f"
            },
            "error_y": {
             "color": "#2a3f5f"
            },
            "marker": {
             "line": {
              "color": "#E5ECF6",
              "width": 0.5
             },
             "pattern": {
              "fillmode": "overlay",
              "size": 10,
              "solidity": 0.2
             }
            },
            "type": "bar"
           }
          ],
          "barpolar": [
           {
            "marker": {
             "line": {
              "color": "#E5ECF6",
              "width": 0.5
             },
             "pattern": {
              "fillmode": "overlay",
              "size": 10,
              "solidity": 0.2
             }
            },
            "type": "barpolar"
           }
          ],
          "carpet": [
           {
            "aaxis": {
             "endlinecolor": "#2a3f5f",
             "gridcolor": "white",
             "linecolor": "white",
             "minorgridcolor": "white",
             "startlinecolor": "#2a3f5f"
            },
            "baxis": {
             "endlinecolor": "#2a3f5f",
             "gridcolor": "white",
             "linecolor": "white",
             "minorgridcolor": "white",
             "startlinecolor": "#2a3f5f"
            },
            "type": "carpet"
           }
          ],
          "choropleth": [
           {
            "colorbar": {
             "outlinewidth": 0,
             "ticks": ""
            },
            "type": "choropleth"
           }
          ],
          "contour": [
           {
            "colorbar": {
             "outlinewidth": 0,
             "ticks": ""
            },
            "colorscale": [
             [
              0,
              "#0d0887"
             ],
             [
              0.1111111111111111,
              "#46039f"
             ],
             [
              0.2222222222222222,
              "#7201a8"
             ],
             [
              0.3333333333333333,
              "#9c179e"
             ],
             [
              0.4444444444444444,
              "#bd3786"
             ],
             [
              0.5555555555555556,
              "#d8576b"
             ],
             [
              0.6666666666666666,
              "#ed7953"
             ],
             [
              0.7777777777777778,
              "#fb9f3a"
             ],
             [
              0.8888888888888888,
              "#fdca26"
             ],
             [
              1,
              "#f0f921"
             ]
            ],
            "type": "contour"
           }
          ],
          "contourcarpet": [
           {
            "colorbar": {
             "outlinewidth": 0,
             "ticks": ""
            },
            "type": "contourcarpet"
           }
          ],
          "heatmap": [
           {
            "colorbar": {
             "outlinewidth": 0,
             "ticks": ""
            },
            "colorscale": [
             [
              0,
              "#0d0887"
             ],
             [
              0.1111111111111111,
              "#46039f"
             ],
             [
              0.2222222222222222,
              "#7201a8"
             ],
             [
              0.3333333333333333,
              "#9c179e"
             ],
             [
              0.4444444444444444,
              "#bd3786"
             ],
             [
              0.5555555555555556,
              "#d8576b"
             ],
             [
              0.6666666666666666,
              "#ed7953"
             ],
             [
              0.7777777777777778,
              "#fb9f3a"
             ],
             [
              0.8888888888888888,
              "#fdca26"
             ],
             [
              1,
              "#f0f921"
             ]
            ],
            "type": "heatmap"
           }
          ],
          "heatmapgl": [
           {
            "colorbar": {
             "outlinewidth": 0,
             "ticks": ""
            },
            "colorscale": [
             [
              0,
              "#0d0887"
             ],
             [
              0.1111111111111111,
              "#46039f"
             ],
             [
              0.2222222222222222,
              "#7201a8"
             ],
             [
              0.3333333333333333,
              "#9c179e"
             ],
             [
              0.4444444444444444,
              "#bd3786"
             ],
             [
              0.5555555555555556,
              "#d8576b"
             ],
             [
              0.6666666666666666,
              "#ed7953"
             ],
             [
              0.7777777777777778,
              "#fb9f3a"
             ],
             [
              0.8888888888888888,
              "#fdca26"
             ],
             [
              1,
              "#f0f921"
             ]
            ],
            "type": "heatmapgl"
           }
          ],
          "histogram": [
           {
            "marker": {
             "pattern": {
              "fillmode": "overlay",
              "size": 10,
              "solidity": 0.2
             }
            },
            "type": "histogram"
           }
          ],
          "histogram2d": [
           {
            "colorbar": {
             "outlinewidth": 0,
             "ticks": ""
            },
            "colorscale": [
             [
              0,
              "#0d0887"
             ],
             [
              0.1111111111111111,
              "#46039f"
             ],
             [
              0.2222222222222222,
              "#7201a8"
             ],
             [
              0.3333333333333333,
              "#9c179e"
             ],
             [
              0.4444444444444444,
              "#bd3786"
             ],
             [
              0.5555555555555556,
              "#d8576b"
             ],
             [
              0.6666666666666666,
              "#ed7953"
             ],
             [
              0.7777777777777778,
              "#fb9f3a"
             ],
             [
              0.8888888888888888,
              "#fdca26"
             ],
             [
              1,
              "#f0f921"
             ]
            ],
            "type": "histogram2d"
           }
          ],
          "histogram2dcontour": [
           {
            "colorbar": {
             "outlinewidth": 0,
             "ticks": ""
            },
            "colorscale": [
             [
              0,
              "#0d0887"
             ],
             [
              0.1111111111111111,
              "#46039f"
             ],
             [
              0.2222222222222222,
              "#7201a8"
             ],
             [
              0.3333333333333333,
              "#9c179e"
             ],
             [
              0.4444444444444444,
              "#bd3786"
             ],
             [
              0.5555555555555556,
              "#d8576b"
             ],
             [
              0.6666666666666666,
              "#ed7953"
             ],
             [
              0.7777777777777778,
              "#fb9f3a"
             ],
             [
              0.8888888888888888,
              "#fdca26"
             ],
             [
              1,
              "#f0f921"
             ]
            ],
            "type": "histogram2dcontour"
           }
          ],
          "mesh3d": [
           {
            "colorbar": {
             "outlinewidth": 0,
             "ticks": ""
            },
            "type": "mesh3d"
           }
          ],
          "parcoords": [
           {
            "line": {
             "colorbar": {
              "outlinewidth": 0,
              "ticks": ""
             }
            },
            "type": "parcoords"
           }
          ],
          "pie": [
           {
            "automargin": true,
            "type": "pie"
           }
          ],
          "scatter": [
           {
            "fillpattern": {
             "fillmode": "overlay",
             "size": 10,
             "solidity": 0.2
            },
            "type": "scatter"
           }
          ],
          "scatter3d": [
           {
            "line": {
             "colorbar": {
              "outlinewidth": 0,
              "ticks": ""
             }
            },
            "marker": {
             "colorbar": {
              "outlinewidth": 0,
              "ticks": ""
             }
            },
            "type": "scatter3d"
           }
          ],
          "scattercarpet": [
           {
            "marker": {
             "colorbar": {
              "outlinewidth": 0,
              "ticks": ""
             }
            },
            "type": "scattercarpet"
           }
          ],
          "scattergeo": [
           {
            "marker": {
             "colorbar": {
              "outlinewidth": 0,
              "ticks": ""
             }
            },
            "type": "scattergeo"
           }
          ],
          "scattergl": [
           {
            "marker": {
             "colorbar": {
              "outlinewidth": 0,
              "ticks": ""
             }
            },
            "type": "scattergl"
           }
          ],
          "scattermapbox": [
           {
            "marker": {
             "colorbar": {
              "outlinewidth": 0,
              "ticks": ""
             }
            },
            "type": "scattermapbox"
           }
          ],
          "scatterpolar": [
           {
            "marker": {
             "colorbar": {
              "outlinewidth": 0,
              "ticks": ""
             }
            },
            "type": "scatterpolar"
           }
          ],
          "scatterpolargl": [
           {
            "marker": {
             "colorbar": {
              "outlinewidth": 0,
              "ticks": ""
             }
            },
            "type": "scatterpolargl"
           }
          ],
          "scatterternary": [
           {
            "marker": {
             "colorbar": {
              "outlinewidth": 0,
              "ticks": ""
             }
            },
            "type": "scatterternary"
           }
          ],
          "surface": [
           {
            "colorbar": {
             "outlinewidth": 0,
             "ticks": ""
            },
            "colorscale": [
             [
              0,
              "#0d0887"
             ],
             [
              0.1111111111111111,
              "#46039f"
             ],
             [
              0.2222222222222222,
              "#7201a8"
             ],
             [
              0.3333333333333333,
              "#9c179e"
             ],
             [
              0.4444444444444444,
              "#bd3786"
             ],
             [
              0.5555555555555556,
              "#d8576b"
             ],
             [
              0.6666666666666666,
              "#ed7953"
             ],
             [
              0.7777777777777778,
              "#fb9f3a"
             ],
             [
              0.8888888888888888,
              "#fdca26"
             ],
             [
              1,
              "#f0f921"
             ]
            ],
            "type": "surface"
           }
          ],
          "table": [
           {
            "cells": {
             "fill": {
              "color": "#EBF0F8"
             },
             "line": {
              "color": "white"
             }
            },
            "header": {
             "fill": {
              "color": "#C8D4E3"
             },
             "line": {
              "color": "white"
             }
            },
            "type": "table"
           }
          ]
         },
         "layout": {
          "annotationdefaults": {
           "arrowcolor": "#2a3f5f",
           "arrowhead": 0,
           "arrowwidth": 1
          },
          "autotypenumbers": "strict",
          "coloraxis": {
           "colorbar": {
            "outlinewidth": 0,
            "ticks": ""
           }
          },
          "colorscale": {
           "diverging": [
            [
             0,
             "#8e0152"
            ],
            [
             0.1,
             "#c51b7d"
            ],
            [
             0.2,
             "#de77ae"
            ],
            [
             0.3,
             "#f1b6da"
            ],
            [
             0.4,
             "#fde0ef"
            ],
            [
             0.5,
             "#f7f7f7"
            ],
            [
             0.6,
             "#e6f5d0"
            ],
            [
             0.7,
             "#b8e186"
            ],
            [
             0.8,
             "#7fbc41"
            ],
            [
             0.9,
             "#4d9221"
            ],
            [
             1,
             "#276419"
            ]
           ],
           "sequential": [
            [
             0,
             "#0d0887"
            ],
            [
             0.1111111111111111,
             "#46039f"
            ],
            [
             0.2222222222222222,
             "#7201a8"
            ],
            [
             0.3333333333333333,
             "#9c179e"
            ],
            [
             0.4444444444444444,
             "#bd3786"
            ],
            [
             0.5555555555555556,
             "#d8576b"
            ],
            [
             0.6666666666666666,
             "#ed7953"
            ],
            [
             0.7777777777777778,
             "#fb9f3a"
            ],
            [
             0.8888888888888888,
             "#fdca26"
            ],
            [
             1,
             "#f0f921"
            ]
           ],
           "sequentialminus": [
            [
             0,
             "#0d0887"
            ],
            [
             0.1111111111111111,
             "#46039f"
            ],
            [
             0.2222222222222222,
             "#7201a8"
            ],
            [
             0.3333333333333333,
             "#9c179e"
            ],
            [
             0.4444444444444444,
             "#bd3786"
            ],
            [
             0.5555555555555556,
             "#d8576b"
            ],
            [
             0.6666666666666666,
             "#ed7953"
            ],
            [
             0.7777777777777778,
             "#fb9f3a"
            ],
            [
             0.8888888888888888,
             "#fdca26"
            ],
            [
             1,
             "#f0f921"
            ]
           ]
          },
          "colorway": [
           "#636efa",
           "#EF553B",
           "#00cc96",
           "#ab63fa",
           "#FFA15A",
           "#19d3f3",
           "#FF6692",
           "#B6E880",
           "#FF97FF",
           "#FECB52"
          ],
          "font": {
           "color": "#2a3f5f"
          },
          "geo": {
           "bgcolor": "white",
           "lakecolor": "white",
           "landcolor": "#E5ECF6",
           "showlakes": true,
           "showland": true,
           "subunitcolor": "white"
          },
          "hoverlabel": {
           "align": "left"
          },
          "hovermode": "closest",
          "mapbox": {
           "style": "light"
          },
          "paper_bgcolor": "white",
          "plot_bgcolor": "#E5ECF6",
          "polar": {
           "angularaxis": {
            "gridcolor": "white",
            "linecolor": "white",
            "ticks": ""
           },
           "bgcolor": "#E5ECF6",
           "radialaxis": {
            "gridcolor": "white",
            "linecolor": "white",
            "ticks": ""
           }
          },
          "scene": {
           "xaxis": {
            "backgroundcolor": "#E5ECF6",
            "gridcolor": "white",
            "gridwidth": 2,
            "linecolor": "white",
            "showbackground": true,
            "ticks": "",
            "zerolinecolor": "white"
           },
           "yaxis": {
            "backgroundcolor": "#E5ECF6",
            "gridcolor": "white",
            "gridwidth": 2,
            "linecolor": "white",
            "showbackground": true,
            "ticks": "",
            "zerolinecolor": "white"
           },
           "zaxis": {
            "backgroundcolor": "#E5ECF6",
            "gridcolor": "white",
            "gridwidth": 2,
            "linecolor": "white",
            "showbackground": true,
            "ticks": "",
            "zerolinecolor": "white"
           }
          },
          "shapedefaults": {
           "line": {
            "color": "#2a3f5f"
           }
          },
          "ternary": {
           "aaxis": {
            "gridcolor": "white",
            "linecolor": "white",
            "ticks": ""
           },
           "baxis": {
            "gridcolor": "white",
            "linecolor": "white",
            "ticks": ""
           },
           "bgcolor": "#E5ECF6",
           "caxis": {
            "gridcolor": "white",
            "linecolor": "white",
            "ticks": ""
           }
          },
          "title": {
           "x": 0.05
          },
          "xaxis": {
           "automargin": true,
           "gridcolor": "white",
           "linecolor": "white",
           "ticks": "",
           "title": {
            "standoff": 15
           },
           "zerolinecolor": "white",
           "zerolinewidth": 2
          },
          "yaxis": {
           "automargin": true,
           "gridcolor": "white",
           "linecolor": "white",
           "ticks": "",
           "title": {
            "standoff": 15
           },
           "zerolinecolor": "white",
           "zerolinewidth": 2
          }
         }
        },
        "width": 900,
        "xaxis": {
         "anchor": "y",
         "autorange": true,
         "domain": [
          0,
          1
         ],
         "matches": "x2",
         "range": [
          "2024-12-27 10:22:30",
          "2024-12-31 00:47:13.6851"
         ],
         "rangebreaks": [
          {
           "bounds": [
            "sat",
            "mon"
           ]
          }
         ],
         "rangeslider": {
          "visible": false,
          "yaxis": {}
         },
         "showticklabels": false,
         "type": "date"
        },
        "xaxis2": {
         "anchor": "y2",
         "autorange": true,
         "domain": [
          0,
          1
         ],
         "range": [
          "2024-12-27 10:22:30",
          "2024-12-31 00:47:13.6851"
         ],
         "type": "date"
        },
        "yaxis": {
         "anchor": "x",
         "autorange": true,
         "domain": [
          0.37,
          1
         ],
         "range": [
          1.0366888888888888,
          1.0463111111111112
         ],
         "type": "linear"
        },
        "yaxis2": {
         "anchor": "x2",
         "autorange": true,
         "domain": [
          0,
          0.27
         ],
         "range": [
          21.823009943424086,
          94.06397499605065
         ],
         "type": "linear"
        }
       }
      },
      "image/png": "[encoded data removed]",
      "text/html": [
       "<div>                            <div id=\"446c8e05-650b-4994-8eac-0cd59801c076\" class=\"plotly-graph-div\" style=\"height:700px; width:900px;\"></div>            <script type=\"text/javascript\">                require([\"plotly\"], function(Plotly) {                    window.PLOTLYENV=window.PLOTLYENV || {};                                    if (document.getElementById(\"446c8e05-650b-4994-8eac-0cd59801c076\")) {                    Plotly.newPlot(                        \"446c8e05-650b-4994-8eac-0cd59801c076\",                        [{\"close\":[1.04153,1.04187,1.04219,1.04288,1.04304,1.04386,1.04385,1.04346,1.04338,1.04325,1.04337,1.04307,1.04321,1.04384,1.04337,1.0432,1.04323,1.04264,1.04174,1.04229,1.04298,1.04219,1.04257,1.04299,1.043,1.04221,1.04175,1.04192,1.04185,1.04212,1.0427,1.04244,1.04278,1.04262,1.04255,1.04259,1.04276,1.04282,1.04237,1.04232,1.04249,1.04257,1.04253,1.04233,1.04221,1.04225,1.04299,1.043,1.04282,1.04307,1.04324,1.04318,1.04295,1.04292,1.04259,1.04291,1.04299,1.04274,1.04258,1.04271,1.04302,1.04254,1.04263,1.04259,1.04271,1.04255,1.04212,1.04231,1.04251,1.04245,1.04251,1.04253,1.04254,1.04253,1.04256,1.04251,1.04245,1.04251,1.04287,1.04293,1.04284,1.04288,1.04257,1.04251,1.04257,1.04267,1.04236,1.04195,1.04215,1.04128,1.04146,1.04181,1.04216,1.04338,1.04416,1.04359,1.04389,1.04383,1.04432,1.04469,1.04469,1.04479,1.04573,1.04448,1.04479,1.04493,1.04398,1.04375,1.04313,1.03878,1.04019,1.04007,1.03903,1.04052,1.03934,1.03912,1.03834,1.03804,1.03805,1.0379,1.03885,1.03857,1.03897,1.03913,1.03886,1.03941,1.03978,1.03971,1.0403,1.04044,1.04003,1.04021,1.04016,1.03965,1.04017,1.04024,1.04023,1.03987,1.04005,1.03997,1.04039,1.04069,1.04017,1.04016,1.04022,1.04043,1.04009,1.04031,1.04049,1.04056],\"high\":[1.04191,1.04213,1.04225,1.04318,1.04307,1.04407,1.0444,1.04405,1.04346,1.04346,1.0438,1.04337,1.04337,1.04384,1.04396,1.04348,1.04359,1.04377,1.04272,1.0424,1.04303,1.04357,1.04271,1.04302,1.04306,1.04324,1.04226,1.042,1.04193,1.04214,1.04276,1.0427,1.04288,1.04279,1.04283,1.04269,1.0428,1.04303,1.04283,1.04248,1.04272,1.04271,1.04259,1.04263,1.04239,1.04254,1.04309,1.04308,1.04302,1.04308,1.04346,1.04329,1.04319,1.04306,1.04304,1.043,1.04305,1.04311,1.0429,1.04282,1.04308,1.04301,1.04268,1.04268,1.04275,1.04273,1.04256,1.04235,1.04251,1.04255,1.04254,1.04256,1.04255,1.0426,1.0426,1.04261,1.04266,1.04267,1.04306,1.043,1.04314,1.04293,1.04294,1.04286,1.04259,1.04288,1.04297,1.04245,1.04227,1.04222,1.04186,1.04184,1.04239,1.04393,1.04439,1.04429,1.04396,1.0444,1.04435,1.04498,1.04508,1.04521,1.04583,1.04574,1.04492,1.04516,1.04518,1.04427,1.04377,1.04321,1.04041,1.04078,1.04005,1.04088,1.04056,1.03963,1.03956,1.03856,1.03842,1.03888,1.03914,1.039,1.03906,1.03935,1.03923,1.03953,1.03994,1.03997,1.04036,1.0407,1.04053,1.0403,1.04041,1.04022,1.04021,1.04051,1.04031,1.04042,1.04019,1.04014,1.04039,1.04069,1.04071,1.04022,1.04034,1.04045,1.0405,1.04037,1.04055,1.04059],\"low\":[1.04116,1.04148,1.04185,1.04217,1.04281,1.04302,1.04381,1.04341,1.04295,1.04281,1.0432,1.04286,1.04307,1.04317,1.04326,1.04293,1.04306,1.04245,1.04171,1.04157,1.04219,1.04177,1.04207,1.04253,1.04256,1.0422,1.04161,1.04144,1.04155,1.0416,1.04207,1.04237,1.04244,1.04243,1.04237,1.0424,1.04242,1.04258,1.04229,1.04228,1.04227,1.04241,1.04235,1.04233,1.04216,1.04219,1.04247,1.04298,1.04282,1.04266,1.0427,1.04305,1.0428,1.04283,1.04258,1.04257,1.04282,1.04257,1.04253,1.04258,1.04269,1.0425,1.0424,1.04253,1.04245,1.04248,1.04208,1.04211,1.04228,1.04234,1.04243,1.04248,1.04251,1.0425,1.04247,1.04247,1.04242,1.04228,1.04251,1.04273,1.04282,1.04273,1.04246,1.04247,1.04209,1.04227,1.0423,1.04183,1.04169,1.04093,1.04109,1.04131,1.04169,1.04215,1.04327,1.04356,1.04352,1.04381,1.04368,1.04413,1.04459,1.04449,1.04471,1.0439,1.04409,1.04466,1.04391,1.0436,1.04309,1.03851,1.03799,1.04,1.03857,1.03903,1.03921,1.03869,1.03828,1.03717,1.03784,1.03747,1.03789,1.03789,1.03845,1.03877,1.03862,1.03876,1.03937,1.03957,1.03963,1.04025,1.0399,1.03981,1.04013,1.0396,1.03951,1.04016,1.04003,1.03985,1.03982,1.03995,1.03996,1.0403,1.03999,1.03991,1.04014,1.04017,1.03987,1.04009,1.04031,1.04039],\"name\":\"Price Action\",\"open\":[1.04177,1.04152,1.04185,1.04218,1.04288,1.04303,1.04387,1.04386,1.04346,1.04338,1.04325,1.04337,1.04307,1.04323,1.04386,1.04337,1.04319,1.04324,1.04265,1.04175,1.04228,1.04298,1.04219,1.04257,1.04299,1.04301,1.0422,1.04176,1.04191,1.04186,1.0421,1.0427,1.04244,1.04279,1.04261,1.04254,1.04258,1.04275,1.04283,1.04237,1.04232,1.0425,1.04255,1.04253,1.04233,1.04221,1.04247,1.04298,1.04301,1.04282,1.04311,1.04326,1.04319,1.04295,1.04297,1.04259,1.04293,1.04298,1.04275,1.04259,1.04272,1.04301,1.04254,1.04261,1.04259,1.04272,1.04256,1.04211,1.04232,1.0425,1.04245,1.04252,1.04253,1.04253,1.04252,1.04257,1.0425,1.04245,1.04251,1.04287,1.04293,1.04285,1.04287,1.04257,1.04251,1.04256,1.04266,1.04237,1.04194,1.04215,1.04127,1.04145,1.04182,1.04215,1.04337,1.04416,1.04359,1.0439,1.04383,1.04431,1.04467,1.04468,1.0448,1.04573,1.0445,1.04482,1.04495,1.04398,1.04375,1.04314,1.0388,1.04018,1.04005,1.03903,1.04052,1.03935,1.03912,1.03833,1.03803,1.03805,1.03789,1.03884,1.03858,1.03897,1.03914,1.03887,1.03942,1.03979,1.03971,1.0403,1.04044,1.04002,1.04021,1.04017,1.03966,1.04019,1.04025,1.04024,1.03993,1.04005,1.03998,1.04038,1.04069,1.04018,1.04014,1.04021,1.04045,1.0401,1.04031,1.04048],\"x\":[\"2024-12-27 10:30:00\",\"2024-12-27 10:45:00\",\"2024-12-27 11:00:00\",\"2024-12-27 11:15:00\",\"2024-12-27 11:30:00\",\"2024-12-27 11:45:00\",\"2024-12-27 12:00:00\",\"2024-12-27 12:15:00\",\"2024-12-27 12:30:00\",\"2024-12-27 12:45:00\",\"2024-12-27 13:00:00\",\"2024-12-27 13:15:00\",\"2024-12-27 13:30:00\",\"2024-12-27 13:45:00\",\"2024-12-27 14:00:00\",\"2024-12-27 14:15:00\",\"2024-12-27 14:30:00\",\"2024-12-27 14:45:00\",\"2024-12-27 15:00:00\",\"2024-12-27 15:15:00\",\"2024-12-27 15:30:00\",\"2024-12-27 15:45:00\",\"2024-12-27 16:00:00\",\"2024-12-27 16:15:00\",\"2024-12-27 16:30:00\",\"2024-12-27 16:45:00\",\"2024-12-27 17:00:00\",\"2024-12-27 17:15:00\",\"2024-12-27 17:30:00\",\"2024-12-27 17:45:00\",\"2024-12-27 18:00:00\",\"2024-12-27 18:15:00\",\"2024-12-27 18:30:00\",\"2024-12-27 18:45:00\",\"2024-12-27 19:00:00\",\"2024-12-27 19:15:00\",\"2024-12-27 19:30:00\",\"2024-12-27 19:45:00\",\"2024-12-27 20:00:00\",\"2024-12-27 20:15:00\",\"2024-12-27 20:30:00\",\"2024-12-27 20:45:00\",\"2024-12-27 21:00:00\",\"2024-12-27 21:15:00\",\"2024-12-27 21:30:00\",\"2024-12-27 21:45:00\",\"2024-12-29 22:00:00\",\"2024-12-29 22:15:00\",\"2024-12-29 22:30:00\",\"2024-12-29 22:45:00\",\"2024-12-29 23:00:00\",\"2024-12-29 23:15:00\",\"2024-12-29 23:30:00\",\"2024-12-29 23:45:00\",\"2024-12-30 00:00:00\",\"2024-12-30 00:15:00\",\"2024-12-30 00:30:00\",\"2024-12-30 00:45:00\",\"2024-12-30 01:00:00\",\"2024-12-30 01:15:00\",\"2024-12-30 01:30:00\",\"2024-12-30 01:45:00\",\"2024-12-30 02:00:00\",\"2024-12-30 02:15:00\",\"2024-12-30 02:30:00\",\"2024-12-30 02:45:00\",\"2024-12-30 03:00:00\",\"2024-12-30 03:15:00\",\"2024-12-30 03:30:00\",\"2024-12-30 03:45:00\",\"2024-12-30 04:00:00\",\"2024-12-30 04:15:00\",\"2024-12-30 04:30:00\",\"2024-12-30 04:45:00\",\"2024-12-30 05:00:00\",\"2024-12-30 05:15:00\",\"2024-12-30 05:30:00\",\"2024-12-30 05:45:00\",\"2024-12-30 06:00:00\",\"2024-12-30 06:15:00\",\"2024-12-30 06:30:00\",\"2024-12-30 06:45:00\",\"2024-12-30 07:00:00\",\"2024-12-30 07:15:00\",\"2024-12-30 07:30:00\",\"2024-12-30 07:45:00\",\"2024-12-30 08:00:00\",\"2024-12-30 08:15:00\",\"2024-12-30 08:30:00\",\"2024-12-30 08:45:00\",\"2024-12-30 09:00:00\",\"2024-12-30 09:15:00\",\"2024-12-30 09:30:00\",\"2024-12-30 09:45:00\",\"2024-12-30 10:00:00\",\"2024-12-30 10:15:00\",\"2024-12-30 10:30:00\",\"2024-12-30 10:45:00\",\"2024-12-30 11:00:00\",\"2024-12-30 11:15:00\",\"2024-12-30 11:30:00\",\"2024-12-30 11:45:00\",\"2024-12-30 12:00:00\",\"2024-12-30 12:15:00\",\"2024-12-30 12:30:00\",\"2024-12-30 12:45:00\",\"2024-12-30 13:00:00\",\"2024-12-30 13:15:00\",\"2024-12-30 13:30:00\",\"2024-12-30 13:45:00\",\"2024-12-30 14:00:00\",\"2024-12-30 14:15:00\",\"2024-12-30 14:30:00\",\"2024-12-30 14:45:00\",\"2024-12-30 15:00:00\",\"2024-12-30 15:15:00\",\"2024-12-30 15:30:00\",\"2024-12-30 15:45:00\",\"2024-12-30 16:00:00\",\"2024-12-30 16:15:00\",\"2024-12-30 16:30:00\",\"2024-12-30 16:45:00\",\"2024-12-30 17:00:00\",\"2024-12-30 17:15:00\",\"2024-12-30 17:30:00\",\"2024-12-30 17:45:00\",\"2024-12-30 18:00:00\",\"2024-12-30 18:15:00\",\"2024-12-30 18:30:00\",\"2024-12-30 18:45:00\",\"2024-12-30 19:00:00\",\"2024-12-30 19:15:00\",\"2024-12-30 19:30:00\",\"2024-12-30 19:45:00\",\"2024-12-30 20:00:00\",\"2024-12-30 20:15:00\",\"2024-12-30 20:30:00\",\"2024-12-30 20:45:00\",\"2024-12-30 21:00:00\",\"2024-12-30 21:15:00\",\"2024-12-30 21:30:00\",\"2024-12-30 21:45:00\",\"2024-12-30 22:00:00\",\"2024-12-30 22:15:00\",\"2024-12-30 22:30:00\",\"2024-12-30 22:45:00\",\"2024-12-30 23:00:00\",\"2024-12-30 23:15:00\",\"2024-12-30 23:30:00\",\"2024-12-30 23:45:00\"],\"type\":\"candlestick\",\"xaxis\":\"x\",\"yaxis\":\"y\"},{\"hoverinfo\":\"text\",\"marker\":{\"color\":\"red\",\"line\":{\"color\":\"black\",\"width\":1},\"size\":10,\"symbol\":\"triangle-down\"},\"mode\":\"markers\",\"name\":\"Short Entry\",\"showlegend\":false,\"text\":\"Short 1 entry at 1.04264\\nTP: 1.03964\\nSL: 1.04364\",\"x\":[\"2024-12-27 14:45:00\"],\"y\":[1.04264],\"type\":\"scatter\",\"xaxis\":\"x\",\"yaxis\":\"y\"},{\"legendgroup\":\"trade_0\",\"line\":{\"color\":\"green\",\"dash\":\"dot\",\"width\":2},\"mode\":\"lines\",\"name\":\"TP 1 (1.03964)\",\"showlegend\":true,\"visible\":\"legendonly\",\"x\":[\"2024-12-27 10:30:00\",\"2024-12-30 23:45:00\"],\"y\":[1.0396400000000001,1.0396400000000001],\"type\":\"scatter\",\"xaxis\":\"x\",\"yaxis\":\"y\"},{\"legendgroup\":\"trade_0\",\"line\":{\"color\":\"red\",\"dash\":\"dot\",\"width\":2},\"mode\":\"lines\",\"name\":\"SL 1 (1.04364)\",\"showlegend\":true,\"visible\":\"legendonly\",\"x\":[\"2024-12-27 10:30:00\",\"2024-12-30 23:45:00\"],\"y\":[1.04364,1.04364],\"type\":\"scatter\",\"xaxis\":\"x\",\"yaxis\":\"y\"},{\"hoverinfo\":\"text\",\"marker\":{\"color\":\"red\",\"line\":{\"color\":\"black\",\"width\":1},\"size\":10,\"symbol\":\"triangle-down\"},\"mode\":\"markers\",\"name\":\"Short Entry\",\"showlegend\":false,\"text\":\"Short 2 entry at 1.04298\\nTP: 1.03998\\nSL: 1.04398\",\"x\":[\"2024-12-27 15:30:00\"],\"y\":[1.04298],\"type\":\"scatter\",\"xaxis\":\"x\",\"yaxis\":\"y\"},{\"legendgroup\":\"trade_1\",\"line\":{\"color\":\"green\",\"dash\":\"dot\",\"width\":2},\"mode\":\"lines\",\"name\":\"TP 2 (1.03998)\",\"showlegend\":true,\"visible\":\"legendonly\",\"x\":[\"2024-12-27 10:30:00\",\"2024-12-30 23:45:00\"],\"y\":[1.0399800000000001,1.0399800000000001],\"type\":\"scatter\",\"xaxis\":\"x\",\"yaxis\":\"y\"},{\"legendgroup\":\"trade_1\",\"line\":{\"color\":\"red\",\"dash\":\"dot\",\"width\":2},\"mode\":\"lines\",\"name\":\"SL 2 (1.04398)\",\"showlegend\":true,\"visible\":\"legendonly\",\"x\":[\"2024-12-27 10:30:00\",\"2024-12-30 23:45:00\"],\"y\":[1.04398,1.04398],\"type\":\"scatter\",\"xaxis\":\"x\",\"yaxis\":\"y\"},{\"hoverinfo\":\"text\",\"marker\":{\"color\":\"red\",\"line\":{\"color\":\"black\",\"width\":1},\"size\":10,\"symbol\":\"triangle-down\"},\"mode\":\"markers\",\"name\":\"Short Entry\",\"showlegend\":false,\"text\":\"Short 3 entry at 1.04221\\nTP: 1.03921\\nSL: 1.04321\",\"x\":[\"2024-12-27 16:45:00\"],\"y\":[1.04221],\"type\":\"scatter\",\"xaxis\":\"x\",\"yaxis\":\"y\"},{\"legendgroup\":\"trade_2\",\"line\":{\"color\":\"green\",\"dash\":\"dot\",\"width\":2},\"mode\":\"lines\",\"name\":\"TP 3 (1.03921)\",\"showlegend\":true,\"visible\":\"legendonly\",\"x\":[\"2024-12-27 10:30:00\",\"2024-12-30 23:45:00\"],\"y\":[1.0392100000000002,1.0392100000000002],\"type\":\"scatter\",\"xaxis\":\"x\",\"yaxis\":\"y\"},{\"legendgroup\":\"trade_2\",\"line\":{\"color\":\"red\",\"dash\":\"dot\",\"width\":2},\"mode\":\"lines\",\"name\":\"SL 3 (1.04321)\",\"showlegend\":true,\"visible\":\"legendonly\",\"x\":[\"2024-12-27 10:30:00\",\"2024-12-30 23:45:00\"],\"y\":[1.04321,1.04321],\"type\":\"scatter\",\"xaxis\":\"x\",\"yaxis\":\"y\"},{\"hoverinfo\":\"text\",\"marker\":{\"color\":\"green\",\"line\":{\"color\":\"black\",\"width\":1},\"size\":10,\"symbol\":\"triangle-up\"},\"mode\":\"markers\",\"name\":\"Long Entry\",\"showlegend\":false,\"text\":\"Long 4 entry at 1.04212\\nTP: 1.04512\\nSL: 1.04112\",\"x\":[\"2024-12-27 17:45:00\"],\"y\":[1.04212],\"type\":\"scatter\",\"xaxis\":\"x\",\"yaxis\":\"y\"},{\"legendgroup\":\"trade_3\",\"line\":{\"color\":\"green\",\"dash\":\"dot\",\"width\":2},\"mode\":\"lines\",\"name\":\"TP 4 (1.04512)\",\"showlegend\":true,\"visible\":\"legendonly\",\"x\":[\"2024-12-27 10:30:00\",\"2024-12-30 23:45:00\"],\"y\":[1.0451199999999998,1.0451199999999998],\"type\":\"scatter\",\"xaxis\":\"x\",\"yaxis\":\"y\"},{\"legendgroup\":\"trade_3\",\"line\":{\"color\":\"red\",\"dash\":\"dot\",\"width\":2},\"mode\":\"lines\",\"name\":\"SL 4 (1.04112)\",\"showlegend\":true,\"visible\":\"legendonly\",\"x\":[\"2024-12-27 10:30:00\",\"2024-12-30 23:45:00\"],\"y\":[1.04112,1.04112],\"type\":\"scatter\",\"xaxis\":\"x\",\"yaxis\":\"y\"},{\"hoverinfo\":\"text\",\"marker\":{\"color\":\"red\",\"line\":{\"color\":\"black\",\"width\":1},\"size\":10,\"symbol\":\"triangle-down\"},\"mode\":\"markers\",\"name\":\"Short Entry\",\"showlegend\":false,\"text\":\"Short 5 entry at 1.04270\\nTP: 1.03970\\nSL: 1.04370\",\"x\":[\"2024-12-27 18:00:00\"],\"y\":[1.0427],\"type\":\"scatter\",\"xaxis\":\"x\",\"yaxis\":\"y\"},{\"legendgroup\":\"trade_4\",\"line\":{\"color\":\"green\",\"dash\":\"dot\",\"width\":2},\"mode\":\"lines\",\"name\":\"TP 5 (1.03970)\",\"showlegend\":true,\"visible\":\"legendonly\",\"x\":[\"2024-12-27 10:30:00\",\"2024-12-30 23:45:00\"],\"y\":[1.0397,1.0397],\"type\":\"scatter\",\"xaxis\":\"x\",\"yaxis\":\"y\"},{\"legendgroup\":\"trade_4\",\"line\":{\"color\":\"red\",\"dash\":\"dot\",\"width\":2},\"mode\":\"lines\",\"name\":\"SL 5 (1.04370)\",\"showlegend\":true,\"visible\":\"legendonly\",\"x\":[\"2024-12-27 10:30:00\",\"2024-12-30 23:45:00\"],\"y\":[1.0436999999999999,1.0436999999999999],\"type\":\"scatter\",\"xaxis\":\"x\",\"yaxis\":\"y\"},{\"hoverinfo\":\"text\",\"marker\":{\"color\":\"red\",\"line\":{\"color\":\"black\",\"width\":1},\"size\":10,\"symbol\":\"triangle-down\"},\"mode\":\"markers\",\"name\":\"Short Entry\",\"showlegend\":false,\"text\":\"Short 6 entry at 1.04237\\nTP: 1.03937\\nSL: 1.04337\",\"x\":[\"2024-12-27 20:00:00\"],\"y\":[1.04237],\"type\":\"scatter\",\"xaxis\":\"x\",\"yaxis\":\"y\"},{\"legendgroup\":\"trade_5\",\"line\":{\"color\":\"green\",\"dash\":\"dot\",\"width\":2},\"mode\":\"lines\",\"name\":\"TP 6 (1.03937)\",\"showlegend\":true,\"visible\":\"legendonly\",\"x\":[\"2024-12-27 10:30:00\",\"2024-12-30 23:45:00\"],\"y\":[1.0393700000000001,1.0393700000000001],\"type\":\"scatter\",\"xaxis\":\"x\",\"yaxis\":\"y\"},{\"legendgroup\":\"trade_5\",\"line\":{\"color\":\"red\",\"dash\":\"dot\",\"width\":2},\"mode\":\"lines\",\"name\":\"SL 6 (1.04337)\",\"showlegend\":true,\"visible\":\"legendonly\",\"x\":[\"2024-12-27 10:30:00\",\"2024-12-30 23:45:00\"],\"y\":[1.04337,1.04337],\"type\":\"scatter\",\"xaxis\":\"x\",\"yaxis\":\"y\"},{\"hoverinfo\":\"text\",\"marker\":{\"color\":\"red\",\"line\":{\"color\":\"black\",\"width\":1},\"size\":10,\"symbol\":\"triangle-down\"},\"mode\":\"markers\",\"name\":\"Short Entry\",\"showlegend\":false,\"text\":\"Short 7 entry at 1.04249\\nTP: 1.03949\\nSL: 1.04349\",\"x\":[\"2024-12-27 20:30:00\"],\"y\":[1.04249],\"type\":\"scatter\",\"xaxis\":\"x\",\"yaxis\":\"y\"},{\"legendgroup\":\"trade_6\",\"line\":{\"color\":\"green\",\"dash\":\"dot\",\"width\":2},\"mode\":\"lines\",\"name\":\"TP 7 (1.03949)\",\"showlegend\":true,\"visible\":\"legendonly\",\"x\":[\"2024-12-27 10:30:00\",\"2024-12-30 23:45:00\"],\"y\":[1.03949,1.03949],\"type\":\"scatter\",\"xaxis\":\"x\",\"yaxis\":\"y\"},{\"legendgroup\":\"trade_6\",\"line\":{\"color\":\"red\",\"dash\":\"dot\",\"width\":2},\"mode\":\"lines\",\"name\":\"SL 7 (1.04349)\",\"showlegend\":true,\"visible\":\"legendonly\",\"x\":[\"2024-12-27 10:30:00\",\"2024-12-30 23:45:00\"],\"y\":[1.0434899999999998,1.0434899999999998],\"type\":\"scatter\",\"xaxis\":\"x\",\"yaxis\":\"y\"},{\"hoverinfo\":\"text\",\"marker\":{\"color\":\"green\",\"line\":{\"color\":\"black\",\"width\":1},\"size\":10,\"symbol\":\"triangle-up\"},\"mode\":\"markers\",\"name\":\"Long Entry\",\"showlegend\":false,\"text\":\"Long 8 entry at 1.04225\\nTP: 1.04525\\nSL: 1.04125\",\"x\":[\"2024-12-27 21:45:00\"],\"y\":[1.04225],\"type\":\"scatter\",\"xaxis\":\"x\",\"yaxis\":\"y\"},{\"legendgroup\":\"trade_7\",\"line\":{\"color\":\"green\",\"dash\":\"dot\",\"width\":2},\"mode\":\"lines\",\"name\":\"TP 8 (1.04525)\",\"showlegend\":true,\"visible\":\"legendonly\",\"x\":[\"2024-12-27 10:30:00\",\"2024-12-30 23:45:00\"],\"y\":[1.0452499999999998,1.0452499999999998],\"type\":\"scatter\",\"xaxis\":\"x\",\"yaxis\":\"y\"},{\"legendgroup\":\"trade_7\",\"line\":{\"color\":\"red\",\"dash\":\"dot\",\"width\":2},\"mode\":\"lines\",\"name\":\"SL 8 (1.04125)\",\"showlegend\":true,\"visible\":\"legendonly\",\"x\":[\"2024-12-27 10:30:00\",\"2024-12-30 23:45:00\"],\"y\":[1.04125,1.04125],\"type\":\"scatter\",\"xaxis\":\"x\",\"yaxis\":\"y\"},{\"hoverinfo\":\"text\",\"marker\":{\"color\":\"green\",\"line\":{\"color\":\"black\",\"width\":1},\"size\":10,\"symbol\":\"triangle-up\"},\"mode\":\"markers\",\"name\":\"Long Entry\",\"showlegend\":false,\"text\":\"Long 9 entry at 1.04259\\nTP: 1.04559\\nSL: 1.04159\",\"x\":[\"2024-12-30 00:00:00\"],\"y\":[1.04259],\"type\":\"scatter\",\"xaxis\":\"x\",\"yaxis\":\"y\"},{\"legendgroup\":\"trade_8\",\"line\":{\"color\":\"green\",\"dash\":\"dot\",\"width\":2},\"mode\":\"lines\",\"name\":\"TP 9 (1.04559)\",\"showlegend\":true,\"visible\":\"legendonly\",\"x\":[\"2024-12-27 10:30:00\",\"2024-12-30 23:45:00\"],\"y\":[1.0455899999999998,1.0455899999999998],\"type\":\"scatter\",\"xaxis\":\"x\",\"yaxis\":\"y\"},{\"legendgroup\":\"trade_8\",\"line\":{\"color\":\"red\",\"dash\":\"dot\",\"width\":2},\"mode\":\"lines\",\"name\":\"SL 9 (1.04159)\",\"showlegend\":true,\"visible\":\"legendonly\",\"x\":[\"2024-12-27 10:30:00\",\"2024-12-30 23:45:00\"],\"y\":[1.04159,1.04159],\"type\":\"scatter\",\"xaxis\":\"x\",\"yaxis\":\"y\"},{\"hoverinfo\":\"text\",\"marker\":{\"color\":\"red\",\"line\":{\"color\":\"black\",\"width\":1},\"size\":10,\"symbol\":\"triangle-down\"},\"mode\":\"markers\",\"name\":\"Short Entry\",\"showlegend\":false,\"text\":\"Short 10 entry at 1.04254\\nTP: 1.03954\\nSL: 1.04354\",\"x\":[\"2024-12-30 01:45:00\"],\"y\":[1.04254],\"type\":\"scatter\",\"xaxis\":\"x\",\"yaxis\":\"y\"},{\"legendgroup\":\"trade_9\",\"line\":{\"color\":\"green\",\"dash\":\"dot\",\"width\":2},\"mode\":\"lines\",\"name\":\"TP 10 (1.03954)\",\"showlegend\":true,\"visible\":\"legendonly\",\"x\":[\"2024-12-27 10:30:00\",\"2024-12-30 23:45:00\"],\"y\":[1.0395400000000001,1.0395400000000001],\"type\":\"scatter\",\"xaxis\":\"x\",\"yaxis\":\"y\"},{\"legendgroup\":\"trade_9\",\"line\":{\"color\":\"red\",\"dash\":\"dot\",\"width\":2},\"mode\":\"lines\",\"name\":\"SL 10 (1.04354)\",\"showlegend\":true,\"visible\":\"legendonly\",\"x\":[\"2024-12-27 10:30:00\",\"2024-12-30 23:45:00\"],\"y\":[1.04354,1.04354],\"type\":\"scatter\",\"xaxis\":\"x\",\"yaxis\":\"y\"},{\"hoverinfo\":\"text\",\"marker\":{\"color\":\"red\",\"line\":{\"color\":\"black\",\"width\":1},\"size\":10,\"symbol\":\"triangle-down\"},\"mode\":\"markers\",\"name\":\"Short Entry\",\"showlegend\":false,\"text\":\"Short 11 entry at 1.04271\\nTP: 1.03971\\nSL: 1.04371\",\"x\":[\"2024-12-30 02:30:00\"],\"y\":[1.04271],\"type\":\"scatter\",\"xaxis\":\"x\",\"yaxis\":\"y\"},{\"legendgroup\":\"trade_10\",\"line\":{\"color\":\"green\",\"dash\":\"dot\",\"width\":2},\"mode\":\"lines\",\"name\":\"TP 11 (1.03971)\",\"showlegend\":true,\"visible\":\"legendonly\",\"x\":[\"2024-12-27 10:30:00\",\"2024-12-30 23:45:00\"],\"y\":[1.0397100000000001,1.0397100000000001],\"type\":\"scatter\",\"xaxis\":\"x\",\"yaxis\":\"y\"},{\"legendgroup\":\"trade_10\",\"line\":{\"color\":\"red\",\"dash\":\"dot\",\"width\":2},\"mode\":\"lines\",\"name\":\"SL 11 (1.04371)\",\"showlegend\":true,\"visible\":\"legendonly\",\"x\":[\"2024-12-27 10:30:00\",\"2024-12-30 23:45:00\"],\"y\":[1.04371,1.04371],\"type\":\"scatter\",\"xaxis\":\"x\",\"yaxis\":\"y\"},{\"hoverinfo\":\"text\",\"marker\":{\"color\":\"green\",\"line\":{\"color\":\"black\",\"width\":1},\"size\":10,\"symbol\":\"triangle-up\"},\"mode\":\"markers\",\"name\":\"Long Entry\",\"showlegend\":false,\"text\":\"Long 12 entry at 1.04212\\nTP: 1.04512\\nSL: 1.04112\",\"x\":[\"2024-12-30 03:00:00\"],\"y\":[1.04212],\"type\":\"scatter\",\"xaxis\":\"x\",\"yaxis\":\"y\"},{\"legendgroup\":\"trade_11\",\"line\":{\"color\":\"green\",\"dash\":\"dot\",\"width\":2},\"mode\":\"lines\",\"name\":\"TP 12 (1.04512)\",\"showlegend\":true,\"visible\":\"legendonly\",\"x\":[\"2024-12-27 10:30:00\",\"2024-12-30 23:45:00\"],\"y\":[1.0451199999999998,1.0451199999999998],\"type\":\"scatter\",\"xaxis\":\"x\",\"yaxis\":\"y\"},{\"legendgroup\":\"trade_11\",\"line\":{\"color\":\"red\",\"dash\":\"dot\",\"width\":2},\"mode\":\"lines\",\"name\":\"SL 12 (1.04112)\",\"showlegend\":true,\"visible\":\"legendonly\",\"x\":[\"2024-12-27 10:30:00\",\"2024-12-30 23:45:00\"],\"y\":[1.04112,1.04112],\"type\":\"scatter\",\"xaxis\":\"x\",\"yaxis\":\"y\"},{\"hoverinfo\":\"text\",\"marker\":{\"color\":\"red\",\"line\":{\"color\":\"black\",\"width\":1},\"size\":10,\"symbol\":\"triangle-down\"},\"mode\":\"markers\",\"name\":\"Short Entry\",\"showlegend\":false,\"text\":\"Short 13 entry at 1.04398\\nTP: 1.04098\\nSL: 1.04498\",\"x\":[\"2024-12-30 13:00:00\"],\"y\":[1.04398],\"type\":\"scatter\",\"xaxis\":\"x\",\"yaxis\":\"y\"},{\"legendgroup\":\"trade_12\",\"line\":{\"color\":\"green\",\"dash\":\"dot\",\"width\":2},\"mode\":\"lines\",\"name\":\"TP 13 (1.04098)\",\"showlegend\":true,\"visible\":\"legendonly\",\"x\":[\"2024-12-27 10:30:00\",\"2024-12-30 23:45:00\"],\"y\":[1.04098,1.04098],\"type\":\"scatter\",\"xaxis\":\"x\",\"yaxis\":\"y\"},{\"legendgroup\":\"trade_12\",\"line\":{\"color\":\"red\",\"dash\":\"dot\",\"width\":2},\"mode\":\"lines\",\"name\":\"SL 13 (1.04498)\",\"showlegend\":true,\"visible\":\"legendonly\",\"x\":[\"2024-12-27 10:30:00\",\"2024-12-30 23:45:00\"],\"y\":[1.0449799999999998,1.0449799999999998],\"type\":\"scatter\",\"xaxis\":\"x\",\"yaxis\":\"y\"},{\"hoverinfo\":\"text\",\"marker\":{\"color\":\"green\",\"line\":{\"color\":\"black\",\"width\":1},\"size\":10,\"symbol\":\"triangle-up\"},\"mode\":\"markers\",\"name\":\"Long Entry\",\"showlegend\":false,\"text\":\"Long 14 entry at 1.03941\\nTP: 1.04241\\nSL: 1.03841\",\"x\":[\"2024-12-30 17:45:00\"],\"y\":[1.03941],\"type\":\"scatter\",\"xaxis\":\"x\",\"yaxis\":\"y\"},{\"legendgroup\":\"trade_13\",\"line\":{\"color\":\"green\",\"dash\":\"dot\",\"width\":2},\"mode\":\"lines\",\"name\":\"TP 14 (1.04241)\",\"showlegend\":true,\"visible\":\"legendonly\",\"x\":[\"2024-12-27 10:30:00\",\"2024-12-30 23:45:00\"],\"y\":[1.0424099999999998,1.0424099999999998],\"type\":\"scatter\",\"xaxis\":\"x\",\"yaxis\":\"y\"},{\"legendgroup\":\"trade_13\",\"line\":{\"color\":\"red\",\"dash\":\"dot\",\"width\":2},\"mode\":\"lines\",\"name\":\"SL 14 (1.03841)\",\"showlegend\":true,\"visible\":\"legendonly\",\"x\":[\"2024-12-27 10:30:00\",\"2024-12-30 23:45:00\"],\"y\":[1.03841,1.03841],\"type\":\"scatter\",\"xaxis\":\"x\",\"yaxis\":\"y\"},{\"hoverinfo\":\"text\",\"marker\":{\"color\":\"green\",\"line\":{\"color\":\"black\",\"width\":1},\"size\":10,\"symbol\":\"triangle-up\"},\"mode\":\"markers\",\"name\":\"Long Entry\",\"showlegend\":false,\"text\":\"Long 15 entry at 1.04030\\nTP: 1.04330\\nSL: 1.03930\",\"x\":[\"2024-12-30 18:30:00\"],\"y\":[1.0403],\"type\":\"scatter\",\"xaxis\":\"x\",\"yaxis\":\"y\"},{\"legendgroup\":\"trade_14\",\"line\":{\"color\":\"green\",\"dash\":\"dot\",\"width\":2},\"mode\":\"lines\",\"name\":\"TP 15 (1.04330)\",\"showlegend\":true,\"visible\":\"legendonly\",\"x\":[\"2024-12-27 10:30:00\",\"2024-12-30 23:45:00\"],\"y\":[1.0433,1.0433],\"type\":\"scatter\",\"xaxis\":\"x\",\"yaxis\":\"y\"},{\"legendgroup\":\"trade_14\",\"line\":{\"color\":\"red\",\"dash\":\"dot\",\"width\":2},\"mode\":\"lines\",\"name\":\"SL 15 (1.03930)\",\"showlegend\":true,\"visible\":\"legendonly\",\"x\":[\"2024-12-27 10:30:00\",\"2024-12-30 23:45:00\"],\"y\":[1.0393000000000001,1.0393000000000001],\"type\":\"scatter\",\"xaxis\":\"x\",\"yaxis\":\"y\"},{\"hoverinfo\":\"text\",\"marker\":{\"color\":\"green\",\"line\":{\"color\":\"black\",\"width\":1},\"size\":10,\"symbol\":\"triangle-up\"},\"mode\":\"markers\",\"name\":\"Long Entry\",\"showlegend\":false,\"text\":\"Long 16 entry at 1.04003\\nTP: 1.04303\\nSL: 1.03903\",\"x\":[\"2024-12-30 19:00:00\"],\"y\":[1.04003],\"type\":\"scatter\",\"xaxis\":\"x\",\"yaxis\":\"y\"},{\"legendgroup\":\"trade_15\",\"line\":{\"color\":\"green\",\"dash\":\"dot\",\"width\":2},\"mode\":\"lines\",\"name\":\"TP 16 (1.04303)\",\"showlegend\":true,\"visible\":\"legendonly\",\"x\":[\"2024-12-27 10:30:00\",\"2024-12-30 23:45:00\"],\"y\":[1.04303,1.04303],\"type\":\"scatter\",\"xaxis\":\"x\",\"yaxis\":\"y\"},{\"legendgroup\":\"trade_15\",\"line\":{\"color\":\"red\",\"dash\":\"dot\",\"width\":2},\"mode\":\"lines\",\"name\":\"SL 16 (1.03903)\",\"showlegend\":true,\"visible\":\"legendonly\",\"x\":[\"2024-12-27 10:30:00\",\"2024-12-30 23:45:00\"],\"y\":[1.0390300000000001,1.0390300000000001],\"type\":\"scatter\",\"xaxis\":\"x\",\"yaxis\":\"y\"},{\"hoverinfo\":\"text\",\"marker\":{\"color\":\"green\",\"line\":{\"color\":\"black\",\"width\":1},\"size\":10,\"symbol\":\"triangle-up\"},\"mode\":\"markers\",\"name\":\"Long Entry\",\"showlegend\":false,\"text\":\"Long 17 entry at 1.04039\\nTP: 1.04339\\nSL: 1.03939\",\"x\":[\"2024-12-30 21:30:00\"],\"y\":[1.04039],\"type\":\"scatter\",\"xaxis\":\"x\",\"yaxis\":\"y\"},{\"legendgroup\":\"trade_16\",\"line\":{\"color\":\"green\",\"dash\":\"dot\",\"width\":2},\"mode\":\"lines\",\"name\":\"TP 17 (1.04339)\",\"showlegend\":true,\"visible\":\"legendonly\",\"x\":[\"2024-12-27 10:30:00\",\"2024-12-30 23:45:00\"],\"y\":[1.0433899999999998,1.0433899999999998],\"type\":\"scatter\",\"xaxis\":\"x\",\"yaxis\":\"y\"},{\"legendgroup\":\"trade_16\",\"line\":{\"color\":\"red\",\"dash\":\"dot\",\"width\":2},\"mode\":\"lines\",\"name\":\"SL 17 (1.03939)\",\"showlegend\":true,\"visible\":\"legendonly\",\"x\":[\"2024-12-27 10:30:00\",\"2024-12-30 23:45:00\"],\"y\":[1.03939,1.03939],\"type\":\"scatter\",\"xaxis\":\"x\",\"yaxis\":\"y\"},{\"hoverinfo\":\"text\",\"marker\":{\"color\":\"red\",\"line\":{\"color\":\"black\",\"width\":1},\"size\":10,\"symbol\":\"triangle-down\"},\"mode\":\"markers\",\"name\":\"Short Entry\",\"showlegend\":false,\"text\":\"Short 18 entry at 1.04017\\nTP: 1.03717\\nSL: 1.04117\",\"x\":[\"2024-12-30 22:00:00\"],\"y\":[1.04017],\"type\":\"scatter\",\"xaxis\":\"x\",\"yaxis\":\"y\"},{\"legendgroup\":\"trade_17\",\"line\":{\"color\":\"green\",\"dash\":\"dot\",\"width\":2},\"mode\":\"lines\",\"name\":\"TP 18 (1.03717)\",\"showlegend\":true,\"visible\":\"legendonly\",\"x\":[\"2024-12-27 10:30:00\",\"2024-12-30 23:45:00\"],\"y\":[1.0371700000000001,1.0371700000000001],\"type\":\"scatter\",\"xaxis\":\"x\",\"yaxis\":\"y\"},{\"legendgroup\":\"trade_17\",\"line\":{\"color\":\"red\",\"dash\":\"dot\",\"width\":2},\"mode\":\"lines\",\"name\":\"SL 18 (1.04117)\",\"showlegend\":true,\"visible\":\"legendonly\",\"x\":[\"2024-12-27 10:30:00\",\"2024-12-30 23:45:00\"],\"y\":[1.04117,1.04117],\"type\":\"scatter\",\"xaxis\":\"x\",\"yaxis\":\"y\"},{\"hoverinfo\":\"text\",\"marker\":{\"color\":\"red\",\"line\":{\"color\":\"black\",\"width\":1},\"size\":10,\"symbol\":\"triangle-down\"},\"mode\":\"markers\",\"name\":\"Short Entry\",\"showlegend\":false,\"text\":\"Short 19 entry at 1.04022\\nTP: 1.03722\\nSL: 1.04122\",\"x\":[\"2024-12-30 22:30:00\"],\"y\":[1.04022],\"type\":\"scatter\",\"xaxis\":\"x\",\"yaxis\":\"y\"},{\"legendgroup\":\"trade_18\",\"line\":{\"color\":\"green\",\"dash\":\"dot\",\"width\":2},\"mode\":\"lines\",\"name\":\"TP 19 (1.03722)\",\"showlegend\":true,\"visible\":\"legendonly\",\"x\":[\"2024-12-27 10:30:00\",\"2024-12-30 23:45:00\"],\"y\":[1.03722,1.03722],\"type\":\"scatter\",\"xaxis\":\"x\",\"yaxis\":\"y\"},{\"legendgroup\":\"trade_18\",\"line\":{\"color\":\"red\",\"dash\":\"dot\",\"width\":2},\"mode\":\"lines\",\"name\":\"SL 19 (1.04122)\",\"showlegend\":true,\"visible\":\"legendonly\",\"x\":[\"2024-12-27 10:30:00\",\"2024-12-30 23:45:00\"],\"y\":[1.0412199999999998,1.0412199999999998],\"type\":\"scatter\",\"xaxis\":\"x\",\"yaxis\":\"y\"},{\"line\":{\"color\":\"blue\"},\"mode\":\"lines+markers\",\"name\":\"Equity Curve\",\"x\":[\"2024-12-27 14:45:00\",\"2024-12-27 15:30:00\",\"2024-12-27 16:45:00\",\"2024-12-27 17:45:00\",\"2024-12-27 18:00:00\",\"2024-12-27 20:00:00\",\"2024-12-27 20:30:00\",\"2024-12-27 21:45:00\",\"2024-12-30 00:00:00\",\"2024-12-30 01:45:00\",\"2024-12-30 02:30:00\",\"2024-12-30 03:00:00\",\"2024-12-30 13:00:00\",\"2024-12-30 17:45:00\",\"2024-12-30 18:30:00\",\"2024-12-30 19:00:00\",\"2024-12-30 21:30:00\",\"2024-12-30 22:00:00\",\"2024-12-30 22:30:00\"],\"y\":[88.52241378795387,79.54504296314418,70.36698590560448,61.66950802829895,55.01552083905689,49.03949977738684,44.28595896796252,39.768256108164756,36.38432525014086,32.968212112838316,29.683381318408067,27.364571151520867,32.97237943317182,32.97237943317182,32.97237943317182,32.97237943317182,32.97237943317182,32.97237943317182,32.97237943317182],\"type\":\"scatter\",\"xaxis\":\"x2\",\"yaxis\":\"y2\"}],                        {\"template\":{\"data\":{\"histogram2dcontour\":[{\"type\":\"histogram2dcontour\",\"colorbar\":{\"outlinewidth\":0,\"ticks\":\"\"},\"colorscale\":[[0.0,\"#0d0887\"],[0.1111111111111111,\"#46039f\"],[0.2222222222222222,\"#7201a8\"],[0.3333333333333333,\"#9c179e\"],[0.4444444444444444,\"#bd3786\"],[0.5555555555555556,\"#d8576b\"],[0.6666666666666666,\"#ed7953\"],[0.7777777777777778,\"#fb9f3a\"],[0.8888888888888888,\"#fdca26\"],[1.0,\"#f0f921\"]]}],\"choropleth\":[{\"type\":\"choropleth\",\"colorbar\":{\"outlinewidth\":0,\"ticks\":\"\"}}],\"histogram2d\":[{\"type\":\"histogram2d\",\"colorbar\":{\"outlinewidth\":0,\"ticks\":\"\"},\"colorscale\":[[0.0,\"#0d0887\"],[0.1111111111111111,\"#46039f\"],[0.2222222222222222,\"#7201a8\"],[0.3333333333333333,\"#9c179e\"],[0.4444444444444444,\"#bd3786\"],[0.5555555555555556,\"#d8576b\"],[0.6666666666666666,\"#ed7953\"],[0.7777777777777778,\"#fb9f3a\"],[0.8888888888888888,\"#fdca26\"],[1.0,\"#f0f921\"]]}],\"heatmap\":[{\"type\":\"heatmap\",\"colorbar\":{\"outlinewidth\":0,\"ticks\":\"\"},\"colorscale\":[[0.0,\"#0d0887\"],[0.1111111111111111,\"#46039f\"],[0.2222222222222222,\"#7201a8\"],[0.3333333333333333,\"#9c179e\"],[0.4444444444444444,\"#bd3786\"],[0.5555555555555556,\"#d8576b\"],[0.6666666666666666,\"#ed7953\"],[0.7777777777777778,\"#fb9f3a\"],[0.8888888888888888,\"#fdca26\"],[1.0,\"#f0f921\"]]}],\"heatmapgl\":[{\"type\":\"heatmapgl\",\"colorbar\":{\"outlinewidth\":0,\"ticks\":\"\"},\"colorscale\":[[0.0,\"#0d0887\"],[0.1111111111111111,\"#46039f\"],[0.2222222222222222,\"#7201a8\"],[0.3333333333333333,\"#9c179e\"],[0.4444444444444444,\"#bd3786\"],[0.5555555555555556,\"#d8576b\"],[0.6666666666666666,\"#ed7953\"],[0.7777777777777778,\"#fb9f3a\"],[0.8888888888888888,\"#fdca26\"],[1.0,\"#f0f921\"]]}],\"contourcarpet\":[{\"type\":\"contourcarpet\",\"colorbar\":{\"outlinewidth\":0,\"ticks\":\"\"}}],\"contour\":[{\"type\":\"contour\",\"colorbar\":{\"outlinewidth\":0,\"ticks\":\"\"},\"colorscale\":[[0.0,\"#0d0887\"],[0.1111111111111111,\"#46039f\"],[0.2222222222222222,\"#7201a8\"],[0.3333333333333333,\"#9c179e\"],[0.4444444444444444,\"#bd3786\"],[0.5555555555555556,\"#d8576b\"],[0.6666666666666666,\"#ed7953\"],[0.7777777777777778,\"#fb9f3a\"],[0.8888888888888888,\"#fdca26\"],[1.0,\"#f0f921\"]]}],\"surface\":[{\"type\":\"surface\",\"colorbar\":{\"outlinewidth\":0,\"ticks\":\"\"},\"colorscale\":[[0.0,\"#0d0887\"],[0.1111111111111111,\"#46039f\"],[0.2222222222222222,\"#7201a8\"],[0.3333333333333333,\"#9c179e\"],[0.4444444444444444,\"#bd3786\"],[0.5555555555555556,\"#d8576b\"],[0.6666666666666666,\"#ed7953\"],[0.7777777777777778,\"#fb9f3a\"],[0.8888888888888888,\"#fdca26\"],[1.0,\"#f0f921\"]]}],\"mesh3d\":[{\"type\":\"mesh3d\",\"colorbar\":{\"outlinewidth\":0,\"ticks\":\"\"}}],\"scatter\":[{\"fillpattern\":{\"fillmode\":\"overlay\",\"size\":10,\"solidity\":0.2},\"type\":\"scatter\"}],\"parcoords\":[{\"type\":\"parcoords\",\"line\":{\"colorbar\":{\"outlinewidth\":0,\"ticks\":\"\"}}}],\"scatterpolargl\":[{\"type\":\"scatterpolargl\",\"marker\":{\"colorbar\":{\"outlinewidth\":0,\"ticks\":\"\"}}}],\"bar\":[{\"error_x\":{\"color\":\"#2a3f5f\"},\"error_y\":{\"color\":\"#2a3f5f\"},\"marker\":{\"line\":{\"color\":\"#E5ECF6\",\"width\":0.5},\"pattern\":{\"fillmode\":\"overlay\",\"size\":10,\"solidity\":0.2}},\"type\":\"bar\"}],\"scattergeo\":[{\"type\":\"scattergeo\",\"marker\":{\"colorbar\":{\"outlinewidth\":0,\"ticks\":\"\"}}}],\"scatterpolar\":[{\"type\":\"scatterpolar\",\"marker\":{\"colorbar\":{\"outlinewidth\":0,\"ticks\":\"\"}}}],\"histogram\":[{\"marker\":{\"pattern\":{\"fillmode\":\"overlay\",\"size\":10,\"solidity\":0.2}},\"type\":\"histogram\"}],\"scattergl\":[{\"type\":\"scattergl\",\"marker\":{\"colorbar\":{\"outlinewidth\":0,\"ticks\":\"\"}}}],\"scatter3d\":[{\"type\":\"scatter3d\",\"line\":{\"colorbar\":{\"outlinewidth\":0,\"ticks\":\"\"}},\"marker\":{\"colorbar\":{\"outlinewidth\":0,\"ticks\":\"\"}}}],\"scattermapbox\":[{\"type\":\"scattermapbox\",\"marker\":{\"colorbar\":{\"outlinewidth\":0,\"ticks\":\"\"}}}],\"scatterternary\":[{\"type\":\"scatterternary\",\"marker\":{\"colorbar\":{\"outlinewidth\":0,\"ticks\":\"\"}}}],\"scattercarpet\":[{\"type\":\"scattercarpet\",\"marker\":{\"colorbar\":{\"outlinewidth\":0,\"ticks\":\"\"}}}],\"carpet\":[{\"aaxis\":{\"endlinecolor\":\"#2a3f5f\",\"gridcolor\":\"white\",\"linecolor\":\"white\",\"minorgridcolor\":\"white\",\"startlinecolor\":\"#2a3f5f\"},\"baxis\":{\"endlinecolor\":\"#2a3f5f\",\"gridcolor\":\"white\",\"linecolor\":\"white\",\"minorgridcolor\":\"white\",\"startlinecolor\":\"#2a3f5f\"},\"type\":\"carpet\"}],\"table\":[{\"cells\":{\"fill\":{\"color\":\"#EBF0F8\"},\"line\":{\"color\":\"white\"}},\"header\":{\"fill\":{\"color\":\"#C8D4E3\"},\"line\":{\"color\":\"white\"}},\"type\":\"table\"}],\"barpolar\":[{\"marker\":{\"line\":{\"color\":\"#E5ECF6\",\"width\":0.5},\"pattern\":{\"fillmode\":\"overlay\",\"size\":10,\"solidity\":0.2}},\"type\":\"barpolar\"}],\"pie\":[{\"automargin\":true,\"type\":\"pie\"}]},\"layout\":{\"autotypenumbers\":\"strict\",\"colorway\":[\"#636efa\",\"#EF553B\",\"#00cc96\",\"#ab63fa\",\"#FFA15A\",\"#19d3f3\",\"#FF6692\",\"#B6E880\",\"#FF97FF\",\"#FECB52\"],\"font\":{\"color\":\"#2a3f5f\"},\"hovermode\":\"closest\",\"hoverlabel\":{\"align\":\"left\"},\"paper_bgcolor\":\"white\",\"plot_bgcolor\":\"#E5ECF6\",\"polar\":{\"bgcolor\":\"#E5ECF6\",\"angularaxis\":{\"gridcolor\":\"white\",\"linecolor\":\"white\",\"ticks\":\"\"},\"radialaxis\":{\"gridcolor\":\"white\",\"linecolor\":\"white\",\"ticks\":\"\"}},\"ternary\":{\"bgcolor\":\"#E5ECF6\",\"aaxis\":{\"gridcolor\":\"white\",\"linecolor\":\"white\",\"ticks\":\"\"},\"baxis\":{\"gridcolor\":\"white\",\"linecolor\":\"white\",\"ticks\":\"\"},\"caxis\":{\"gridcolor\":\"white\",\"linecolor\":\"white\",\"ticks\":\"\"}},\"coloraxis\":{\"colorbar\":{\"outlinewidth\":0,\"ticks\":\"\"}},\"colorscale\":{\"sequential\":[[0.0,\"#0d0887\"],[0.1111111111111111,\"#46039f\"],[0.2222222222222222,\"#7201a8\"],[0.3333333333333333,\"#9c179e\"],[0.4444444444444444,\"#bd3786\"],[0.5555555555555556,\"#d8576b\"],[0.6666666666666666,\"#ed7953\"],[0.7777777777777778,\"#fb9f3a\"],[0.8888888888888888,\"#fdca26\"],[1.0,\"#f0f921\"]],\"sequentialminus\":[[0.0,\"#0d0887\"],[0.1111111111111111,\"#46039f\"],[0.2222222222222222,\"#7201a8\"],[0.3333333333333333,\"#9c179e\"],[0.4444444444444444,\"#bd3786\"],[0.5555555555555556,\"#d8576b\"],[0.6666666666666666,\"#ed7953\"],[0.7777777777777778,\"#fb9f3a\"],[0.8888888888888888,\"#fdca26\"],[1.0,\"#f0f921\"]],\"diverging\":[[0,\"#8e0152\"],[0.1,\"#c51b7d\"],[0.2,\"#de77ae\"],[0.3,\"#f1b6da\"],[0.4,\"#fde0ef\"],[0.5,\"#f7f7f7\"],[0.6,\"#e6f5d0\"],[0.7,\"#b8e186\"],[0.8,\"#7fbc41\"],[0.9,\"#4d9221\"],[1,\"#276419\"]]},\"xaxis\":{\"gridcolor\":\"white\",\"linecolor\":\"white\",\"ticks\":\"\",\"title\":{\"standoff\":15},\"zerolinecolor\":\"white\",\"automargin\":true,\"zerolinewidth\":2},\"yaxis\":{\"gridcolor\":\"white\",\"linecolor\":\"white\",\"ticks\":\"\",\"title\":{\"standoff\":15},\"zerolinecolor\":\"white\",\"automargin\":true,\"zerolinewidth\":2},\"scene\":{\"xaxis\":{\"backgroundcolor\":\"#E5ECF6\",\"gridcolor\":\"white\",\"linecolor\":\"white\",\"showbackground\":true,\"ticks\":\"\",\"zerolinecolor\":\"white\",\"gridwidth\":2},\"yaxis\":{\"backgroundcolor\":\"#E5ECF6\",\"gridcolor\":\"white\",\"linecolor\":\"white\",\"showbackground\":true,\"ticks\":\"\",\"zerolinecolor\":\"white\",\"gridwidth\":2},\"zaxis\":{\"backgroundcolor\":\"#E5ECF6\",\"gridcolor\":\"white\",\"linecolor\":\"white\",\"showbackground\":true,\"ticks\":\"\",\"zerolinecolor\":\"white\",\"gridwidth\":2}},\"shapedefaults\":{\"line\":{\"color\":\"#2a3f5f\"}},\"annotationdefaults\":{\"arrowcolor\":\"#2a3f5f\",\"arrowhead\":0,\"arrowwidth\":1},\"geo\":{\"bgcolor\":\"white\",\"landcolor\":\"#E5ECF6\",\"subunitcolor\":\"white\",\"showland\":true,\"showlakes\":true,\"lakecolor\":\"white\"},\"title\":{\"x\":0.05},\"mapbox\":{\"style\":\"light\"}}},\"xaxis\":{\"anchor\":\"y\",\"domain\":[0.0,1.0],\"matches\":\"x2\",\"showticklabels\":false,\"rangeslider\":{\"visible\":false},\"rangebreaks\":[{\"bounds\":[\"sat\",\"mon\"]}]},\"yaxis\":{\"anchor\":\"x\",\"domain\":[0.37,1.0]},\"xaxis2\":{\"anchor\":\"y2\",\"domain\":[0.0,1.0]},\"yaxis2\":{\"anchor\":\"x2\",\"domain\":[0.0,0.27]},\"annotations\":[{\"font\":{\"size\":16},\"showarrow\":false,\"text\":\"fvg_strategy\",\"x\":0.5,\"xanchor\":\"center\",\"xref\":\"paper\",\"y\":1.0,\"yanchor\":\"bottom\",\"yref\":\"paper\"},{\"font\":{\"size\":16},\"showarrow\":false,\"text\":\"Equity Curve\",\"x\":0.5,\"xanchor\":\"center\",\"xref\":\"paper\",\"y\":0.27,\"yanchor\":\"bottom\",\"yref\":\"paper\"}],\"height\":700,\"width\":900,\"legend\":{\"orientation\":\"v\",\"yanchor\":\"top\",\"y\":1,\"xanchor\":\"left\",\"x\":1.01},\"hovermode\":\"closest\"},                        {\"responsive\": true}                    ).then(function(){\n",
       "                            \n",
       "var gd = document.getElementById('446c8e05-650b-4994-8eac-0cd59801c076');\n",
       "var x = new MutationObserver(function (mutations, observer) {{\n",
       "        var display = window.getComputedStyle(gd).display;\n",
       "        if (!display || display === 'none') {{\n",
       "            console.log([gd, 'removed!']);\n",
       "            Plotly.purge(gd);\n",
       "            observer.disconnect();\n",
       "        }}\n",
       "}});\n",
       "\n",
       "// Listen for the removal of the full notebook cells\n",
       "var notebookContainer = gd.closest('#notebook-container');\n",
       "if (notebookContainer) {{\n",
       "    x.observe(notebookContainer, {childList: true});\n",
       "}}\n",
       "\n",
       "// Listen for the clearing of the current output cell\n",
       "var outputEl = gd.closest('.output');\n",
       "if (outputEl) {{\n",
       "    x.observe(outputEl, {childList: true});\n",
       "}}\n",
       "\n",
       "                        })                };                });            </script>        </div>"
      ]
     },
     "metadata": {},
     "output_type": "display_data"
    }
   ],
   "source": [
    "fig"
   ]
  },
  {
   "cell_type": "code",
   "execution_count": 38,
   "id": "5d470adb-2c38-41bb-bba8-5386a26a1bbd",
   "metadata": {},
   "outputs": [
    {
     "data": {
      "text/plain": [
       "Time      2020-12-28 23:00:00\n",
       "Open                  1.22081\n",
       "High                   1.2217\n",
       "Low                   1.22081\n",
       "Close                 1.22156\n",
       "Volume                    658\n",
       "Name: 0, dtype: object"
      ]
     },
     "execution_count": 38,
     "metadata": {},
     "output_type": "execute_result"
    }
   ],
   "source": [
    "#df=csv_to_df(df)\n",
    "df.iloc[0]#.iloc[1]\n",
    "#df[df[\"High\"] > 1.22200].index[0]"
   ]
  },
  {
   "cell_type": "code",
   "execution_count": 51,
   "id": "97928db3-e7d3-4a50-b5f6-abcef3f79fdb",
   "metadata": {},
   "outputs": [],
   "source": [
    "def get_neighbor_candles(df, idx):\n",
    "    return df.iloc[idx-1], df.iloc[idx], df.iloc[idx+1]\n",
    "\n",
    "def is_bullish_fvg(c1, c2, c3):\n",
    "    \"\"\"\n",
    "    Check if the 3 candles form a bullish fair value gap.\n",
    "    \n",
    "    Args:\n",
    "        candles: List of candle data [index, open, high, low, close, volume]\n",
    "        idx: Current candle index\n",
    "    \n",
    "    Returns:\n",
    "        bool: True if bullish FVG is detected\n",
    "    \"\"\"\n",
    "    \n",
    "    # Bullish FVG conditions:\n",
    "    return (c1.iloc[1] > c1.iloc[4] and   # First candle bearish (open > close)\n",
    "            c2.iloc[4] > c2.iloc[1] and   # Middle candle bullish (close > open)\n",
    "            c3.iloc[3] > c1.iloc[2])      # Last candle low > first candle high\n",
    "\n",
    "def is_bearish_fvg(c1, c2, c3):\n",
    "    \"\"\"\n",
    "    Check if the 3 candles form a bearish fair value gap.\n",
    "    \n",
    "    Args:\n",
    "        candles: List of candle data [index, open, high, low, close, volume]\n",
    "        idx: Current candle index\n",
    "    \n",
    "    Returns:\n",
    "        bool: True if bearish FVG is detected\n",
    "    \"\"\"\n",
    "    # Bearish FVG conditions:\n",
    "    return (c1.iloc[1] < c1.iloc[4] and   # First candle bullish (open > close)\n",
    "            c2.iloc[4] < c2.iloc[1] and   # Middle candle bearish (close > open)\n",
    "            c1.iloc[3] > c3.iloc[2])      # First candle low > last candle high\n",
    "\n",
    "def get_fvg_midpoint(c1, c3):\n",
    "    \"\"\"\n",
    "    Calculate the midpoint of the fair value gap.\n",
    "    \n",
    "    Args:\n",
    "        candles: List of candle data\n",
    "    \n",
    "    Returns:\n",
    "        float: Midpoint price level\n",
    "    \"\"\"\n",
    "    if c1.iloc[4] > c3.iloc[4]:\n",
    "        return (c1[3] + c3[2]) / 2\n",
    "    else:\n",
    "        return (c1[3] + c3[2]) / 2\n",
    "\n",
    "def fvg_strategy(df):\n",
    "    \"\"\"\n",
    "    Simple FVG (Fair Value Gap) strategy implementation.\n",
    "    \n",
    "    Args:\n",
    "        df: DataFrame with OHLCV data\n",
    "    \n",
    "    Returns:\n",
    "        List[int]: Signals where:\n",
    "            1 = bullish FVG (buy signal)\n",
    "            -1 = bearish FVG (sell signal)\n",
    "            0 = no signal\n",
    "    \"\"\"\n",
    "    \n",
    "    # Initialize signals array with zeros\n",
    "    signals = np.zeros(len(df))\n",
    "    \n",
    "    # Look for FVG patterns\n",
    "    for i in range(2, len(df)-1):\n",
    "        \n",
    "        c1,c2,c3 = get_neighbor_candles(df, i)\n",
    "        \n",
    "        if is_bullish_fvg(c1, c2, c3):\n",
    "            mid = get_fvg_midpoint(c1, c3)\n",
    "            df_after_fvg = df.iloc[i+2:]\n",
    "            df2 = df_after_fvg[df_after_fvg[\"Low\"] <= mid]\n",
    "            if not df2.empty:\n",
    "                entry = df2.index[0]\n",
    "                signals[entry] = 1\n",
    "                \n",
    "        elif is_bearish_fvg(c1, c2, c3):\n",
    "            mid = get_fvg_midpoint(c1, c3)\n",
    "            df_after_fvg = df.iloc[i+2:]\n",
    "            df2 = df_after_fvg[df_after_fvg[\"High\"] >= mid]\n",
    "            if not df2.empty:\n",
    "                entry = df2.index[0]\n",
    "                signals[entry] = -1\n",
    "    \n",
    "    return signals"
   ]
  },
  {
   "cell_type": "markdown",
   "id": "5aba4d69-aeff-4a68-ac11-9921d1120577",
   "metadata": {},
   "source": [
    "## Custom Javascript"
   ]
  },
  {
   "cell_type": "code",
   "execution_count": null,
   "id": "90eede72-c106-43f7-9cd9-54be11749550",
   "metadata": {},
   "outputs": [],
   "source": [
    "# for entry in entry_points:\n",
    "#         marker_color = 'green' if entry['type'] == 'long' else 'red'\n",
    "#         marker_symbol = 'triangle-up' if entry['type'] == 'long' else 'triangle-down'\n",
    "        \n",
    "#         # Create shapes for TP and SL lines\n",
    "#         tp_line = dict(\n",
    "#             type='line',\n",
    "#             x0=entry['date'],\n",
    "#             x1=df['Time'].iloc[-1],  # Extend to end of chart\n",
    "#             y0=entry['take_profit'],\n",
    "#             y1=entry['take_profit'],\n",
    "#             line=dict(\n",
    "#                 color='green',\n",
    "#                 width=1,\n",
    "#                 dash='dash'\n",
    "#             ),\n",
    "#             visible=False  # Hidden by default\n",
    "#         )\n",
    "        \n",
    "#         sl_line = dict(\n",
    "#             type='line',\n",
    "#             x0=entry['date'],\n",
    "#             x1=df['Time'].iloc[-1],  # Extend to end of chart\n",
    "#             y0=entry['stop_loss'],\n",
    "#             y1=entry['stop_loss'],\n",
    "#             line=dict(\n",
    "#                 color='red',\n",
    "#                 width=1,\n",
    "#                 dash='dash'\n",
    "#             ),\n",
    "#             visible=False  # Hidden by default\n",
    "#         )\n",
    "        \n",
    "#         # Add the shapes to the layout\n",
    "#         fig.add_shape(tp_line)\n",
    "#         fig.add_shape(sl_line)\n",
    "        \n",
    "#         # Add the entry point marker with hover events\n",
    "#         fig.add_trace(go.Scatter(\n",
    "#             x=[entry['date']],\n",
    "#             y=[entry['price']],\n",
    "#             mode='markers',\n",
    "#             marker=dict(\n",
    "#                 symbol=marker_symbol,\n",
    "#                 size=10,\n",
    "#                 color=marker_color,\n",
    "#                 line=dict(width=1, color='black')\n",
    "#             ),\n",
    "#             name=f\"{entry['type'].capitalize()} Entry\",\n",
    "#             text=(f\"{entry['type'].capitalize()} entry at {entry['price']:.5f}\\n\"\n",
    "#                   f\"Take Profit: {entry['take_profit']:.5f}\\n\"\n",
    "#                   f\"Stop Loss: {entry['stop_loss']:.5f}\"),\n",
    "#             hoverinfo='text',\n",
    "#             customdata=[len(fig.layout.shapes)-2, len(fig.layout.shapes)-1]  # Store indices of associated TP/SL lines\n",
    "#         ))\n",
    "\n",
    "#     # Add hover events using JavaScript\n",
    "#     fig.update_layout(\n",
    "#         hovermode='closest',\n",
    "#         # Add JavaScript callbacks for hover events\n",
    "#         updatemenus=[],  # Required for the JavaScript to work\n",
    "#     )\n",
    "\n",
    "#     # Add JavaScript for hover functionality\n",
    "#     fig.add_annotation(\n",
    "#         dict(\n",
    "#             text=\"\",\n",
    "#             showarrow=False,\n",
    "#             textangle=0,\n",
    "#             xref='paper', yref='paper',\n",
    "#             x=0, y=0,\n",
    "#             # JavaScript for hover events\n",
    "#             hovertemplate=\"\",\n",
    "#             hoverlabel=dict(\n",
    "#                 font=dict(\n",
    "#                     family=\"Courier New, monospace\",\n",
    "#                     size=16,\n",
    "#                     color=\"white\"\n",
    "#                 )\n",
    "#             )\n",
    "#         )\n",
    "#     )\n",
    "\n",
    "#     # Add JavaScript to handle hover events\n",
    "#     fig.update_layout(\n",
    "#         newshape=dict(line_width=1),\n",
    "#         paper_bgcolor='rgba(0,0,0,0)',\n",
    "#         plot_bgcolor='rgba(0,0,0,0)',\n",
    "#     )\n",
    "\n",
    "#     custom_js = \"\"\"\n",
    "#     var gd = document.getElementById('{plot_div}');\n",
    "#     var previousTraceIndex = null;\n",
    "\n",
    "#     gd.on('plotly_hover', function(data) {\n",
    "#         var traceIndex = data.points[0].curveNumber;\n",
    "#         var customdata = data.points[0].customdata;\n",
    "        \n",
    "#         if (customdata && customdata.length === 2) {\n",
    "#             var tpIndex = customdata[0];\n",
    "#             var slIndex = customdata[1];\n",
    "            \n",
    "#             Plotly.relayout(gd, {\n",
    "#                 [`shapes[${tpIndex}].visible`]: true,\n",
    "#                 [`shapes[${slIndex}].visible`]: true\n",
    "#             });\n",
    "#         }\n",
    "#     });\n",
    "\n",
    "#     gd.on('plotly_unhover', function(data) {\n",
    "#         // Hide all shapes when unhovering\n",
    "#         var updates = {};\n",
    "#         gd.layout.shapes.forEach((shape, i) => {\n",
    "#             updates[`shapes[${i}].visible`] = false;\n",
    "#         });\n",
    "#         Plotly.relayout(gd, updates);\n",
    "#     });\n",
    "#     \"\"\"\n",
    "\n",
    "#     # Add the custom JavaScript to the layout config\n",
    "#     fig.update_layout(\n",
    "#         newshape_line_width=1,\n",
    "#     )\n",
    "\n",
    "#     # Save the plot\n",
    "#     #output_file = f\"forex_strategy_{symbol.replace('=', '_')}.html\"\n",
    "#     #fig.write_html(output_file)\n",
    "#     #print(f\"Chart saved as {output_file}\")\n",
    "    \n",
    "#     return fig"
   ]
  }
 ],
 "metadata": {
  "kernelspec": {
   "display_name": "Python 3 (ipykernel)",
   "language": "python",
   "name": "python3"
  },
  "language_info": {
   "codemirror_mode": {
    "name": "ipython",
    "version": 3
   },
   "file_extension": ".py",
   "mimetype": "text/x-python",
   "name": "python",
   "nbconvert_exporter": "python",
   "pygments_lexer": "ipython3",
   "version": "3.12.1"
  }
 },
 "nbformat": 4,
 "nbformat_minor": 5
}
